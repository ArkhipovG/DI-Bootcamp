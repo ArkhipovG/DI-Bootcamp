{
  "cells": [
    {
      "cell_type": "code",
      "execution_count": 1,
      "metadata": {
        "id": "ETxP3qvnRd-S"
      },
      "outputs": [],
      "source": [
        "import numpy as np"
      ]
    },
    {
      "cell_type": "markdown",
      "metadata": {
        "id": "g9p5iTbDRd-T"
      },
      "source": [
        "Exercise 1 : Array Creation And Manipulation\n",
        "Instructions\n",
        "Create a 1D NumPy array containing numbers from 0 to 9."
      ]
    },
    {
      "cell_type": "code",
      "execution_count": 2,
      "metadata": {
        "colab": {
          "base_uri": "https://localhost:8080/"
        },
        "id": "80FXKyNcRd-U",
        "outputId": "7ddce923-85df-4ebb-a4a5-74d8a3ff9a52"
      },
      "outputs": [
        {
          "output_type": "execute_result",
          "data": {
            "text/plain": [
              "array([0, 1, 2, 3, 4, 5, 6, 7, 8, 9])"
            ]
          },
          "metadata": {},
          "execution_count": 2
        }
      ],
      "source": [
        "array_1d = np.arange(0,10)\n",
        "array_1d"
      ]
    },
    {
      "cell_type": "markdown",
      "metadata": {
        "id": "uXqn7K8ERd-U"
      },
      "source": [
        "Exercise 2 : Type Conversion And Array Operations\n",
        "Instructions\n",
        "Convert a list [3.14, 2.17, 0, 1, 2] into a NumPy array and convert its data type to integer."
      ]
    },
    {
      "cell_type": "code",
      "execution_count": 3,
      "metadata": {
        "id": "FNsnwtucRd-V"
      },
      "outputs": [],
      "source": [
        "lst = [3.14, 2.17, 0, 1, 2]\n",
        "array = np.array(lst, dtype=int)"
      ]
    },
    {
      "cell_type": "markdown",
      "metadata": {
        "id": "giim8f5BRd-V"
      },
      "source": [
        "Exercise 3 : Working With Multi-Dimensional Arrays\n",
        "Instructions\n",
        "Create a 3x3 NumPy array with values ranging from 1 to 9."
      ]
    },
    {
      "cell_type": "code",
      "execution_count": 4,
      "metadata": {
        "id": "U7-puFMnRd-V"
      },
      "outputs": [],
      "source": [
        "array3d = np.arange(1,10).reshape(3,3)"
      ]
    },
    {
      "cell_type": "code",
      "execution_count": 5,
      "metadata": {
        "colab": {
          "base_uri": "https://localhost:8080/"
        },
        "id": "C-SMO8emRd-V",
        "outputId": "ddcfdfaa-00fd-4035-9cf4-6bc450390e9f"
      },
      "outputs": [
        {
          "output_type": "execute_result",
          "data": {
            "text/plain": [
              "array([[1, 2, 3],\n",
              "       [4, 5, 6],\n",
              "       [7, 8, 9]])"
            ]
          },
          "metadata": {},
          "execution_count": 5
        }
      ],
      "source": [
        "array3d"
      ]
    },
    {
      "cell_type": "markdown",
      "metadata": {
        "id": "NgBB6VoVRd-V"
      },
      "source": [
        " Exercise 4 : Creating Multi-Dimensional Array With Random Numbers\n",
        "Instructions\n",
        "Create a 2D NumPy array of shape (4, 5) filled with random numbers."
      ]
    },
    {
      "cell_type": "code",
      "execution_count": 6,
      "metadata": {
        "colab": {
          "base_uri": "https://localhost:8080/"
        },
        "id": "8LjaJHadRd-V",
        "outputId": "d39a150c-dc36-49ac-ef3c-fe909955e958"
      },
      "outputs": [
        {
          "output_type": "execute_result",
          "data": {
            "text/plain": [
              "array([[84, 70, 34,  4, 56],\n",
              "       [ 8, 34, 90, 72, 45],\n",
              "       [53, 81, 38, 38, 89],\n",
              "       [78, 43, 41, 38, 36]])"
            ]
          },
          "metadata": {},
          "execution_count": 6
        }
      ],
      "source": [
        "array_2d = np.random.randint(0,100,size=(4,5))\n",
        "array_2d"
      ]
    },
    {
      "cell_type": "markdown",
      "metadata": {
        "id": "5J3pUZwkRd-W"
      },
      "source": [
        " Exercise 5 : Indexing Arrays\n",
        "Instructions\n",
        "Select the second row from a given 2D NumPy array."
      ]
    },
    {
      "cell_type": "code",
      "execution_count": 7,
      "metadata": {
        "colab": {
          "base_uri": "https://localhost:8080/"
        },
        "id": "XvtlJ4piRd-W",
        "outputId": "af06fd85-dee1-44fa-e820-03b4746ec7a4"
      },
      "outputs": [
        {
          "output_type": "execute_result",
          "data": {
            "text/plain": [
              "21"
            ]
          },
          "metadata": {},
          "execution_count": 7
        }
      ],
      "source": [
        "array = np.array([20, 21, 22, 23, 24])\n",
        "array[1]"
      ]
    },
    {
      "cell_type": "code",
      "execution_count": 8,
      "metadata": {
        "colab": {
          "base_uri": "https://localhost:8080/"
        },
        "id": "eIqf6AjHRd-W",
        "outputId": "8f429314-f70c-4be3-bd8a-6bfd664610e6"
      },
      "outputs": [
        {
          "output_type": "execute_result",
          "data": {
            "text/plain": [
              "array([20, 21, 22, 23, 24])"
            ]
          },
          "metadata": {},
          "execution_count": 8
        }
      ],
      "source": [
        "array = np.array([[21,22,23,22,22],[20, 21, 22, 23, 24],[21,22,23,22,22]])\n",
        "array[1, :]"
      ]
    },
    {
      "cell_type": "markdown",
      "metadata": {
        "id": "qKSsFl4NRd-W"
      },
      "source": [
        "Exercise 6 : Reversing Elements\n",
        "Instructions\n",
        "Reverse the order of elements in a given 1D NumPy array (first element becomes last)."
      ]
    },
    {
      "cell_type": "code",
      "execution_count": 9,
      "metadata": {
        "colab": {
          "base_uri": "https://localhost:8080/"
        },
        "id": "_vUUPpoQRd-W",
        "outputId": "8fc825f5-6cb7-4806-8a84-17f796b52092"
      },
      "outputs": [
        {
          "output_type": "execute_result",
          "data": {
            "text/plain": [
              "array([0, 1, 2, 3, 4, 5, 6, 7, 8, 9])"
            ]
          },
          "metadata": {},
          "execution_count": 9
        }
      ],
      "source": [
        "array = np.array([9, 8, 7, 6, 5, 4, 3, 2, 1, 0])\n",
        "array[::-1]"
      ]
    },
    {
      "cell_type": "markdown",
      "metadata": {
        "id": "zP61Yr-KRd-W"
      },
      "source": [
        "Exercise 7 : Identity Matrix\n",
        "Instructions\n",
        "Create a 4x4 identity matrix using NumPy."
      ]
    },
    {
      "cell_type": "code",
      "execution_count": 10,
      "metadata": {
        "colab": {
          "base_uri": "https://localhost:8080/"
        },
        "id": "yGOtW2OFRd-X",
        "outputId": "52828b83-75e5-4c96-dbfa-168e274db7a6"
      },
      "outputs": [
        {
          "output_type": "execute_result",
          "data": {
            "text/plain": [
              "array([[1., 0., 0., 0.],\n",
              "       [0., 1., 0., 0.],\n",
              "       [0., 0., 1., 0.],\n",
              "       [0., 0., 0., 1.]])"
            ]
          },
          "metadata": {},
          "execution_count": 10
        }
      ],
      "source": [
        "identity_matrix = np.eye(4)\n",
        "identity_matrix"
      ]
    },
    {
      "cell_type": "markdown",
      "metadata": {
        "id": "zPfHRAnZRd-X"
      },
      "source": [
        " Exercise 8 : Simple Aggregate Funcs\n",
        "Instructions\n",
        "Find the sum and average of a given 1D array."
      ]
    },
    {
      "cell_type": "code",
      "execution_count": 11,
      "metadata": {
        "colab": {
          "base_uri": "https://localhost:8080/"
        },
        "id": "mdcVNJWgRd-X",
        "outputId": "c4007977-e242-4cca-8666-499249cf9565"
      },
      "outputs": [
        {
          "output_type": "stream",
          "name": "stdout",
          "text": [
            "Sum: 55 , Average: 5.5\n"
          ]
        }
      ],
      "source": [
        "arr = np.array([1, 2, 3, 4, 5, 6, 7, 8, 9, 10])\n",
        "sum_array = np.sum(arr)\n",
        "average_array = np.mean(arr)\n",
        "\n",
        "print(\"Sum:\", sum_array, \", Average:\", average_array)"
      ]
    },
    {
      "cell_type": "markdown",
      "metadata": {
        "id": "L5fsewAJRd-X"
      },
      "source": [
        "Exercise 9 : Create Array And Change Its Structure\n",
        "Instructions\n",
        "Create a NumPy array with elements from 1 to 20; then reshape it into a 4x5 matrix."
      ]
    },
    {
      "cell_type": "code",
      "execution_count": 12,
      "metadata": {
        "colab": {
          "base_uri": "https://localhost:8080/"
        },
        "id": "0SceB4BkRd-X",
        "outputId": "49d457c2-c4ae-4ac0-b93d-3b37849da5d2"
      },
      "outputs": [
        {
          "output_type": "execute_result",
          "data": {
            "text/plain": [
              "array([[ 1,  2,  3,  4,  5],\n",
              "       [ 6,  7,  8,  9, 10],\n",
              "       [11, 12, 13, 14, 15],\n",
              "       [16, 17, 18, 19, 20]])"
            ]
          },
          "metadata": {},
          "execution_count": 12
        }
      ],
      "source": [
        "array_4x5 = np.arange(1,21).reshape(4,5)\n",
        "array_4x5"
      ]
    },
    {
      "cell_type": "markdown",
      "metadata": {
        "id": "IzMo8M4uRd-X"
      },
      "source": [
        "Exercise 10 : Conditional Selection Of Values\n",
        "Instructions\n",
        "Extract all odd numbers from a given NumPy array."
      ]
    },
    {
      "cell_type": "code",
      "execution_count": 13,
      "metadata": {
        "colab": {
          "base_uri": "https://localhost:8080/"
        },
        "id": "1ZROZXraRd-X",
        "outputId": "774de3e7-e811-4dbb-ff36-689f9df56efb"
      },
      "outputs": [
        {
          "output_type": "execute_result",
          "data": {
            "text/plain": [
              "array([1, 3, 5, 7, 9])"
            ]
          },
          "metadata": {},
          "execution_count": 13
        }
      ],
      "source": [
        "arr = np.array([1, 2, 3, 4, 5, 6, 7, 8, 9, 10])\n",
        "odd_num = arr[arr%2 != 0]\n",
        "odd_num"
      ]
    },
    {
      "cell_type": "code",
      "execution_count": 13,
      "metadata": {
        "id": "_bWNPbK8Rd-X"
      },
      "outputs": [],
      "source": []
    }
  ],
  "metadata": {
    "kernelspec": {
      "display_name": "my_env",
      "language": "python",
      "name": "python3"
    },
    "language_info": {
      "codemirror_mode": {
        "name": "ipython",
        "version": 3
      },
      "file_extension": ".py",
      "mimetype": "text/x-python",
      "name": "python",
      "nbconvert_exporter": "python",
      "pygments_lexer": "ipython3",
      "version": "3.11.5"
    },
    "colab": {
      "provenance": []
    }
  },
  "nbformat": 4,
  "nbformat_minor": 0
}