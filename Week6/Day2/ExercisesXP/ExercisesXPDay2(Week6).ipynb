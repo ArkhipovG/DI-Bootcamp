{
  "cells": [
    {
      "cell_type": "markdown",
      "metadata": {
        "id": "smvpalEFWwkt"
      },
      "source": [
        "Exercise 1 : Matrix Operations"
      ]
    },
    {
      "cell_type": "code",
      "execution_count": 1,
      "metadata": {
        "id": "iQxcZE6CWwku"
      },
      "outputs": [],
      "source": [
        "import numpy as np\n",
        "import pandas as pd\n",
        "matrix_3x3 = np.arange(0,9).reshape(3,3)"
      ]
    },
    {
      "cell_type": "code",
      "execution_count": 2,
      "metadata": {
        "colab": {
          "base_uri": "https://localhost:8080/"
        },
        "id": "9giwRt4xWwku",
        "outputId": "626cdd66-9dad-466e-fec0-32fd66c79136"
      },
      "outputs": [
        {
          "output_type": "execute_result",
          "data": {
            "text/plain": [
              "array([[0, 1, 2],\n",
              "       [3, 4, 5],\n",
              "       [6, 7, 8]])"
            ]
          },
          "metadata": {},
          "execution_count": 2
        }
      ],
      "source": [
        "matrix_3x3"
      ]
    },
    {
      "cell_type": "code",
      "execution_count": 3,
      "metadata": {
        "colab": {
          "base_uri": "https://localhost:8080/"
        },
        "id": "y6w_r4-MWwkv",
        "outputId": "0d746039-44e7-485b-d951-21f95f6df1aa"
      },
      "outputs": [
        {
          "output_type": "stream",
          "name": "stdout",
          "text": [
            "Determinant: 0.0\n"
          ]
        }
      ],
      "source": [
        "determinant = np.linalg.det(matrix_3x3)\n",
        "\n",
        "print(\"Determinant:\", determinant)"
      ]
    },
    {
      "cell_type": "code",
      "execution_count": 4,
      "metadata": {
        "id": "mueWVwplWwkv"
      },
      "outputs": [],
      "source": [
        "matrix_3x3 = np.random.randint(1,10,size=(3,3))"
      ]
    },
    {
      "cell_type": "code",
      "execution_count": 5,
      "metadata": {
        "colab": {
          "base_uri": "https://localhost:8080/"
        },
        "id": "tY8A-N60Wwkv",
        "outputId": "81f0d101-0887-4064-c201-381da09c4aaa"
      },
      "outputs": [
        {
          "output_type": "stream",
          "name": "stdout",
          "text": [
            "Matrix: [[1 4 8]\n",
            " [9 8 7]\n",
            " [6 9 5]]\n",
            "Determinant: 229.00000000000006\n",
            "Inversed: [[-0.10043668  0.22707424 -0.15720524]\n",
            " [-0.01310044 -0.18777293  0.28384279]\n",
            " [ 0.1441048   0.06550218 -0.12227074]]\n"
          ]
        }
      ],
      "source": [
        "determinant = np.linalg.det(matrix_3x3)\n",
        "\n",
        "inverse_matrix = np.linalg.inv(matrix_3x3)\n",
        "print(\"Matrix:\", matrix_3x3)\n",
        "print(\"Determinant:\", determinant)\n",
        "print(\"Inversed:\", inverse_matrix)"
      ]
    },
    {
      "cell_type": "markdown",
      "metadata": {
        "id": "m5drT2v0Wwkv"
      },
      "source": [
        "Exercise 2 : Statistical Analysis"
      ]
    },
    {
      "cell_type": "code",
      "execution_count": 6,
      "metadata": {
        "id": "WZP7qfUHWwkv"
      },
      "outputs": [],
      "source": [
        "arr = np.random.rand(50)"
      ]
    },
    {
      "cell_type": "code",
      "execution_count": 7,
      "metadata": {
        "colab": {
          "base_uri": "https://localhost:8080/"
        },
        "id": "3nBc9yM7Wwkv",
        "outputId": "331ecfc9-886f-43d3-be19-00ed113d50d5"
      },
      "outputs": [
        {
          "output_type": "execute_result",
          "data": {
            "text/plain": [
              "0.4901425663142003"
            ]
          },
          "metadata": {},
          "execution_count": 7
        }
      ],
      "source": [
        "np.mean(arr)"
      ]
    },
    {
      "cell_type": "code",
      "execution_count": 8,
      "metadata": {
        "colab": {
          "base_uri": "https://localhost:8080/"
        },
        "id": "e6hIpgj7Wwkv",
        "outputId": "bbd0756b-b124-4a64-a6bb-fe028e1dfdf8"
      },
      "outputs": [
        {
          "output_type": "execute_result",
          "data": {
            "text/plain": [
              "0.49819852096398803"
            ]
          },
          "metadata": {},
          "execution_count": 8
        }
      ],
      "source": [
        "np.median(arr)"
      ]
    },
    {
      "cell_type": "code",
      "execution_count": 9,
      "metadata": {
        "colab": {
          "base_uri": "https://localhost:8080/"
        },
        "id": "_j1ywQvOWwkv",
        "outputId": "94d0244a-76fd-42ed-d112-ed3cb9dcad1a"
      },
      "outputs": [
        {
          "output_type": "execute_result",
          "data": {
            "text/plain": [
              "0.31599439172622124"
            ]
          },
          "metadata": {},
          "execution_count": 9
        }
      ],
      "source": [
        "np.std(arr)"
      ]
    },
    {
      "cell_type": "code",
      "execution_count": 10,
      "metadata": {
        "colab": {
          "base_uri": "https://localhost:8080/"
        },
        "id": "AuGbMQzwWwkw",
        "outputId": "55568bcc-07fb-4f03-da30-bda1f88f34dd"
      },
      "outputs": [
        {
          "output_type": "stream",
          "name": "stdout",
          "text": [
            "Mean: 0.4901425663142003\n",
            "Median: 0.49819852096398803\n",
            "Standard Deviation: 0.31599439172622124\n"
          ]
        }
      ],
      "source": [
        "mean = np.mean(arr)\n",
        "median = np.median(arr)\n",
        "std_dev = np.std(arr)\n",
        "\n",
        "print(\"Mean:\", mean)\n",
        "print(\"Median:\", median)\n",
        "print(\"Standard Deviation:\", std_dev)"
      ]
    },
    {
      "cell_type": "markdown",
      "metadata": {
        "id": "InRIEcXYWwkw"
      },
      "source": [
        "Exercise 3 : Date Manipulation"
      ]
    },
    {
      "cell_type": "code",
      "execution_count": 11,
      "metadata": {
        "colab": {
          "base_uri": "https://localhost:8080/"
        },
        "id": "bJ3iCVhZWwkw",
        "outputId": "634d4abd-69d6-4b71-f005-00a04bac355c"
      },
      "outputs": [
        {
          "output_type": "stream",
          "name": "stdout",
          "text": [
            "Original dates for January 2023:\n",
            "['2023-01-01' '2023-01-02' '2023-01-03' '2023-01-04' '2023-01-05'\n",
            " '2023-01-06' '2023-01-07' '2023-01-08' '2023-01-09' '2023-01-10'\n",
            " '2023-01-11' '2023-01-12' '2023-01-13' '2023-01-14' '2023-01-15'\n",
            " '2023-01-16' '2023-01-17' '2023-01-18' '2023-01-19' '2023-01-20'\n",
            " '2023-01-21' '2023-01-22' '2023-01-23' '2023-01-24' '2023-01-25'\n",
            " '2023-01-26' '2023-01-27' '2023-01-28' '2023-01-29' '2023-01-30'\n",
            " '2023-01-31']\n",
            "\n",
            "Formatted dates (YYYY/MM/DD):\n",
            "['2023-01-01' '2023-01-02' '2023-01-03' '2023-01-04' '2023-01-05'\n",
            " '2023-01-06' '2023-01-07' '2023-01-08' '2023-01-09' '2023-01-10'\n",
            " '2023-01-11' '2023-01-12' '2023-01-13' '2023-01-14' '2023-01-15'\n",
            " '2023-01-16' '2023-01-17' '2023-01-18' '2023-01-19' '2023-01-20'\n",
            " '2023-01-21' '2023-01-22' '2023-01-23' '2023-01-24' '2023-01-25'\n",
            " '2023-01-26' '2023-01-27' '2023-01-28' '2023-01-29' '2023-01-30'\n",
            " '2023-01-31']\n",
            "\n",
            "Formatted dates (DD/MM/YYYY):\n",
            "['2023-01-01' '2023-01-02' '2023-01-03' '2023-01-04' '2023-01-05'\n",
            " '2023-01-06' '2023-01-07' '2023-01-08' '2023-01-09' '2023-01-10'\n",
            " '2023-01-11' '2023-01-12' '2023-01-13' '2023-01-14' '2023-01-15'\n",
            " '2023-01-16' '2023-01-17' '2023-01-18' '2023-01-19' '2023-01-20'\n",
            " '2023-01-21' '2023-01-22' '2023-01-23' '2023-01-24' '2023-01-25'\n",
            " '2023-01-26' '2023-01-27' '2023-01-28' '2023-01-29' '2023-01-30'\n",
            " '2023-01-31']\n"
          ]
        }
      ],
      "source": [
        "start_date = np.datetime64('2023-01-01')\n",
        "end_date = np.datetime64('2023-02-01')\n",
        "dates_array = np.arange(start_date, end_date, dtype='datetime64[D]')\n",
        "formatted_dates = np.array([np.datetime_as_string(date, unit='D') for date in dates_array])\n",
        "formatted_dates_dd_mm_yyyy = np.array([np.datetime_as_string(date, unit='D', casting='unsafe') for date in dates_array])\n",
        "\n",
        "print(\"Original dates for January 2023:\")\n",
        "print(dates_array)\n",
        "\n",
        "print(\"\\nFormatted dates (YYYY/MM/DD):\")\n",
        "print(formatted_dates)\n",
        "\n",
        "print(\"\\nFormatted dates (DD/MM/YYYY):\")\n",
        "print(formatted_dates_dd_mm_yyyy)\n"
      ]
    },
    {
      "cell_type": "code",
      "execution_count": 12,
      "metadata": {
        "colab": {
          "base_uri": "https://localhost:8080/"
        },
        "id": "1Ppbrr6NWwkw",
        "outputId": "f4a79a2c-c6ea-4fc0-922a-97692e4a3402"
      },
      "outputs": [
        {
          "output_type": "stream",
          "name": "stdout",
          "text": [
            "Original dates for January 2023:\n",
            "['2023-01-01' '2023-01-02' '2023-01-03' '2023-01-04' '2023-01-05'\n",
            " '2023-01-06' '2023-01-07' '2023-01-08' '2023-01-09' '2023-01-10'\n",
            " '2023-01-11' '2023-01-12' '2023-01-13' '2023-01-14' '2023-01-15'\n",
            " '2023-01-16' '2023-01-17' '2023-01-18' '2023-01-19' '2023-01-20'\n",
            " '2023-01-21' '2023-01-22' '2023-01-23' '2023-01-24' '2023-01-25'\n",
            " '2023-01-26' '2023-01-27' '2023-01-28' '2023-01-29' '2023-01-30'\n",
            " '2023-01-31']\n",
            "\n",
            "Formatted dates (DD/MM/YYYY):\n",
            "['01/01/2023', '02/01/2023', '03/01/2023', '04/01/2023', '05/01/2023', '06/01/2023', '07/01/2023', '08/01/2023', '09/01/2023', '10/01/2023', '11/01/2023', '12/01/2023', '13/01/2023', '14/01/2023', '15/01/2023', '16/01/2023', '17/01/2023', '18/01/2023', '19/01/2023', '20/01/2023', '21/01/2023', '22/01/2023', '23/01/2023', '24/01/2023', '25/01/2023', '26/01/2023', '27/01/2023', '28/01/2023', '29/01/2023', '30/01/2023', '31/01/2023']\n"
          ]
        }
      ],
      "source": [
        "import numpy as np\n",
        "from datetime import datetime\n",
        "\n",
        "start_date = np.datetime64('2023-01-01')\n",
        "end_date = np.datetime64('2023-02-01')\n",
        "dates_array = np.arange(start_date, end_date, dtype='datetime64[D]')\n",
        "\n",
        "formatted_dates = [datetime.utcfromtimestamp(date.astype('datetime64[s]').astype(int)).strftime('%d/%m/%Y') for date in dates_array]\n",
        "\n",
        "print(\"Original dates for January 2023:\")\n",
        "print(dates_array)\n",
        "\n",
        "print(\"\\nFormatted dates (DD/MM/YYYY):\")\n",
        "print(formatted_dates)\n"
      ]
    },
    {
      "cell_type": "markdown",
      "metadata": {
        "id": "OwUwMWQnWwkw"
      },
      "source": [
        "Exercise 4 : Data Manipulation With NumPy And Pandas"
      ]
    },
    {
      "cell_type": "code",
      "execution_count": 13,
      "metadata": {
        "id": "IAhHlhnhWwkw"
      },
      "outputs": [],
      "source": [
        "arr = np.random.rand(50)\n",
        "data = {\n",
        "    'number_rand':arr\n",
        "}\n",
        "random_df = pd.DataFrame(data)"
      ]
    },
    {
      "cell_type": "code",
      "execution_count": 14,
      "metadata": {
        "colab": {
          "base_uri": "https://localhost:8080/"
        },
        "id": "mHDFciC7Wwkw",
        "outputId": "06f2b92e-1928-4970-8208-b35429d376d5"
      },
      "outputs": [
        {
          "output_type": "stream",
          "name": "stdout",
          "text": [
            "Numbers > 50:\n",
            "    numbers\n",
            "0        95\n",
            "2        84\n",
            "4        94\n",
            "12       55\n",
            "15       91\n",
            "29       70\n",
            "30       96\n",
            "32       98\n",
            "33       88\n",
            "35       74\n",
            "36       60\n",
            "37       52\n",
            "39       91\n",
            "40       92\n",
            "42       69\n",
            "44       70\n",
            "49       94\n",
            "\n",
            "Th number of numbers > 50: numbers    17\n",
            "dtype: int64\n"
          ]
        }
      ],
      "source": [
        "arr = np.random.randint(1, 100, size=50)\n",
        "random_df = pd.DataFrame({'numbers':arr})\n",
        "\n",
        "conditional_selection = random_df[random_df['numbers']>50]\n",
        "conditional_selection_count = random_df[random_df['numbers']>50].count()\n",
        "print(f'Numbers > 50:\\n{conditional_selection}\\n')\n",
        "print(f\"Th number of numbers > 50: {conditional_selection_count}\")"
      ]
    },
    {
      "cell_type": "markdown",
      "metadata": {
        "id": "hwGbqMa0Wwkw"
      },
      "source": [
        "Exercise 5 : Image Representation"
      ]
    },
    {
      "cell_type": "code",
      "execution_count": 16,
      "metadata": {
        "colab": {
          "base_uri": "https://localhost:8080/",
          "height": 546
        },
        "id": "mSvH7B4jWwkw",
        "outputId": "dca7c370-e954-485c-b312-3195847ce47d"
      },
      "outputs": [
        {
          "output_type": "stream",
          "name": "stdout",
          "text": [
            "Original image size: (1920, 1080)\n",
            "Array shape after conversion: (1080, 1920, 3)\n",
            "Shape after calculating mean across color channels: (1080, 1920)\n",
            "Values after rounding: [[15. 15. 15. ... 15. 15. 15.]\n",
            " [15. 15. 15. ... 15. 15. 15.]\n",
            " [15. 15. 15. ... 15. 15. 15.]\n",
            " ...\n",
            " [15. 15. 15. ... 15. 15. 15.]\n",
            " [15. 15. 15. ... 15. 15. 15.]\n",
            " [15. 15. 15. ... 15. 15. 15.]]\n",
            "Data type after conversion: uint8\n",
            "Image mode after conversion: L\n"
          ]
        },
        {
          "output_type": "display_data",
          "data": {
            "text/plain": [
              "<Figure size 640x480 with 1 Axes>"
            ],
            "image/png": "[encoded data removed]"
          },
          "metadata": {}
        }
      ],
      "source": [
        "from PIL import Image\n",
        "import numpy as np\n",
        "import matplotlib.pyplot as plt\n",
        "# Load an image\n",
        "image = Image.open('53152-1920x1080.jpg')\n",
        "print(\"Original image size:\", image.size)\n",
        "\n",
        "# Convert the image to a NumPy array\n",
        "arr = np.array(image)\n",
        "print(\"Array shape after conversion:\", arr.shape)\n",
        "arr\n",
        "# Calculate the mean of RGB values across the third axis (color channels)\n",
        "res = arr.mean(axis=2)\n",
        "print(\"Shape after calculating mean across color channels:\", res.shape)\n",
        "res\n",
        "# Round the mean values\n",
        "res = res.round()\n",
        "print(\"Values after rounding:\", res)\n",
        "res\n",
        "# Convert the array to unsigned 8-bit integers\n",
        "res = res.astype(np.uint8)\n",
        "print(\"Data type after conversion:\", res.dtype)\n",
        "res\n",
        "# Convert the NumPy array back to a PIL Image\n",
        "im = Image.fromarray(res)\n",
        "print(\"Image mode after conversion:\", im.mode)\n",
        "\n",
        "# Save the processed image\n",
        "# im.save('out.jpg')\n",
        "# print(\"Processed image saved as 'out.jpg'\")\n",
        "\n",
        "plt.imshow(im, cmap='gray', vmin=0, vmax=255)\n",
        "plt.axis('off')\n",
        "plt.title('Grayscale Image')\n",
        "plt.show()"
      ]
    },
    {
      "cell_type": "code",
      "execution_count": 17,
      "metadata": {
        "colab": {
          "base_uri": "https://localhost:8080/",
          "height": 428
        },
        "id": "8HEzeLhyWwkw",
        "outputId": "cbd64c94-2470-430b-c0d5-13ecc8fd9db1"
      },
      "outputs": [
        {
          "output_type": "display_data",
          "data": {
            "text/plain": [
              "<Figure size 640x480 with 1 Axes>"
            ],
            "image/png": "[encoded data removed]"
          },
          "metadata": {}
        }
      ],
      "source": [
        "import numpy as np\n",
        "import matplotlib.pyplot as plt\n",
        "\n",
        "# Create a 5x5 array representing a grayscale image\n",
        "image_array = np.array([\n",
        "    [0, 50, 100, 150, 200],\n",
        "    [50, 100, 150, 200, 250],\n",
        "    [100, 150, 200, 250, 255],\n",
        "    [150, 200, 250, 255, 200],\n",
        "    [200, 250, 255, 200, 150]\n",
        "], dtype=np.uint8)  # Use uint8 data type for grayscale images (0-255)\n",
        "res = image_array.mean(axis=1)\n",
        "res = res.round()\n",
        "res = res.astype(np.uint8)\n",
        "im = Image.fromarray(res)\n",
        "# Display the image\n",
        "plt.imshow(image_array, cmap='gray', vmin=0, vmax=255)\n",
        "plt.axis('off')\n",
        "plt.title('Grayscale Image')\n",
        "plt.show()"
      ]
    },
    {
      "cell_type": "markdown",
      "metadata": {
        "id": "DpkodnbjWwkx"
      },
      "source": [
        " Exercise 6 : Basic Hypothesis Testing"
      ]
    },
    {
      "cell_type": "code",
      "execution_count": 19,
      "metadata": {
        "id": "ROy2ZDf6Wwkx"
      },
      "outputs": [],
      "source": [
        "# Productivity scores of employees before the training program\n",
        "productivity_before = np.random.normal(loc=50, scale=10, size=30)\n",
        "\n",
        "# Productivity scores of the same employees after the training program\n",
        "productivity_after = productivity_before + np.random.normal(loc=5, scale=3, size=30)\n",
        "\n",
        "# Your task is to formulate a hypothesis regarding the training program's effectiveness\n",
        "# and test it using basic statistical functions in NumPy."
      ]
    },
    {
      "cell_type": "code",
      "execution_count": 20,
      "metadata": {
        "colab": {
          "base_uri": "https://localhost:8080/"
        },
        "id": "LeNmNHruWwkx",
        "outputId": "714943bb-6704-4bce-d5d5-e84046b03906"
      },
      "outputs": [
        {
          "output_type": "execute_result",
          "data": {
            "text/plain": [
              "array([61.10946095, 43.00968279, 58.04503127, 40.88887377, 66.2639034 ,\n",
              "       53.34355607, 35.34024556, 52.44827877, 53.61074963, 55.94147687,\n",
              "       31.92524823, 52.95024517, 64.36591768, 63.37029122, 36.24292621,\n",
              "       63.49440536, 55.08708876, 56.47225592, 47.81474974, 59.74820774,\n",
              "       63.36610532, 50.05894952, 59.05749709, 45.86325326, 49.62415561,\n",
              "       41.08419724, 54.91827954, 36.17551906, 29.43907792, 41.86844557])"
            ]
          },
          "metadata": {},
          "execution_count": 20
        }
      ],
      "source": [
        "productivity_before"
      ]
    },
    {
      "cell_type": "code",
      "execution_count": 21,
      "metadata": {
        "colab": {
          "base_uri": "https://localhost:8080/"
        },
        "id": "02mk3sEuWwkx",
        "outputId": "046157da-2fe8-4654-bd4b-c548fc6f294f"
      },
      "outputs": [
        {
          "output_type": "execute_result",
          "data": {
            "text/plain": [
              "array([66.10641477, 51.21526667, 64.61005504, 47.63980691, 68.49372852,\n",
              "       60.03694945, 40.81016747, 54.96846036, 52.95030554, 60.60032931,\n",
              "       41.44852254, 59.13859707, 66.26721232, 69.42451025, 40.63731999,\n",
              "       70.41138225, 59.82272921, 61.46176062, 53.50256728, 65.16317548,\n",
              "       72.39473488, 59.09434998, 63.46487369, 48.88797113, 54.91964656,\n",
              "       42.38025135, 63.24551615, 39.84180009, 31.93502953, 46.19300648])"
            ]
          },
          "metadata": {},
          "execution_count": 21
        }
      ],
      "source": [
        "productivity_after"
      ]
    },
    {
      "cell_type": "markdown",
      "metadata": {
        "id": "wN3JB4EJWwkx"
      },
      "source": [
        "Null Hypothesis (HO): The average productivity of employees after the training program is not significantly different from the average productivity before the training program.\n",
        "\n",
        "Alternative Hypothesis (H1): The average productivity of employees after the training program is significantly higher than the average productivity before the training program."
      ]
    },
    {
      "cell_type": "code",
      "execution_count": 22,
      "metadata": {
        "colab": {
          "base_uri": "https://localhost:8080/"
        },
        "id": "B3jb4GeuWwkx",
        "outputId": "02f3af8a-0fff-493d-e1fe-74cab9c81284"
      },
      "outputs": [
        {
          "output_type": "stream",
          "name": "stdout",
          "text": [
            "t-statistic: 11.562770642085978\n",
            "p-value: 2.2201257007676318e-12\n",
            "Reject null hypothesis. There is sufficient evidence to suggest that the training program had an effect on productivity.\n"
          ]
        }
      ],
      "source": [
        "from scipy.stats import ttest_rel\n",
        "\n",
        "t_statistic, p_value = ttest_rel(productivity_after, productivity_before)\n",
        "\n",
        "print(\"t-statistic:\", t_statistic)\n",
        "print(\"p-value:\", p_value)\n",
        "\n",
        "alpha = 0.05\n",
        "# Check if the p-value is less than the significance level\n",
        "if p_value < alpha:\n",
        "    print(\"Reject null hypothesis. There is sufficient evidence to suggest that the training program had an effect on productivity.\")\n",
        "else:\n",
        "    print(\"Fail to reject null hypothesis. There is not enough evidence to suggest that the training program had an effect on productivity.\")"
      ]
    },
    {
      "cell_type": "markdown",
      "metadata": {
        "id": "OPXNjXp2Wwkx"
      },
      "source": [
        "Exercise 7 : Complex Array Comparison"
      ]
    },
    {
      "cell_type": "code",
      "execution_count": 23,
      "metadata": {
        "id": "LTZnNiclWwkx"
      },
      "outputs": [],
      "source": [
        "arr1 = np.random.randint(1,100,size=50)\n",
        "arr2 = np.random.randint(1,100,size=50)\n",
        "arr3 = arr1>arr2"
      ]
    },
    {
      "cell_type": "code",
      "execution_count": 24,
      "metadata": {
        "colab": {
          "base_uri": "https://localhost:8080/"
        },
        "id": "es-IqviNWwkx",
        "outputId": "acbbfe43-6ccc-4838-9b04-8b3ba92b4606"
      },
      "outputs": [
        {
          "output_type": "execute_result",
          "data": {
            "text/plain": [
              "array([False,  True,  True, False,  True,  True,  True, False, False,\n",
              "       False,  True, False, False,  True,  True,  True,  True,  True,\n",
              "       False,  True, False, False, False,  True,  True, False, False,\n",
              "        True, False,  True, False, False,  True, False,  True,  True,\n",
              "        True, False, False, False, False,  True,  True,  True, False,\n",
              "        True,  True, False, False, False])"
            ]
          },
          "metadata": {},
          "execution_count": 24
        }
      ],
      "source": [
        "arr3"
      ]
    },
    {
      "cell_type": "markdown",
      "metadata": {
        "id": "YdcqEe0_Wwkx"
      },
      "source": [
        "Exercise 8 : Time Series Data Manipulation"
      ]
    },
    {
      "cell_type": "code",
      "execution_count": 25,
      "metadata": {
        "id": "28CnuMvCWwkx"
      },
      "outputs": [],
      "source": [
        "start_date = np.datetime64('2023-01-01')\n",
        "end_date = np.datetime64('2023-12-31')\n",
        "dates_array = np.arange(start_date, end_date, dtype='datetime64[D]')"
      ]
    },
    {
      "cell_type": "code",
      "execution_count": 26,
      "metadata": {
        "colab": {
          "base_uri": "https://localhost:8080/"
        },
        "id": "aUxpgphPWwky",
        "outputId": "9ed9fc79-b400-49cf-c7b2-d0dbd81cd567"
      },
      "outputs": [
        {
          "output_type": "execute_result",
          "data": {
            "text/plain": [
              "array(['2023-01-01', '2023-01-02', '2023-01-03', '2023-01-04',\n",
              "       '2023-01-05', '2023-01-06', '2023-01-07', '2023-01-08',\n",
              "       '2023-01-09', '2023-01-10', '2023-01-11', '2023-01-12',\n",
              "       '2023-01-13', '2023-01-14', '2023-01-15', '2023-01-16',\n",
              "       '2023-01-17', '2023-01-18', '2023-01-19', '2023-01-20',\n",
              "       '2023-01-21', '2023-01-22', '2023-01-23', '2023-01-24',\n",
              "       '2023-01-25', '2023-01-26', '2023-01-27', '2023-01-28',\n",
              "       '2023-01-29', '2023-01-30', '2023-01-31', '2023-02-01',\n",
              "       '2023-02-02', '2023-02-03', '2023-02-04', '2023-02-05',\n",
              "       '2023-02-06', '2023-02-07', '2023-02-08', '2023-02-09',\n",
              "       '2023-02-10', '2023-02-11', '2023-02-12', '2023-02-13',\n",
              "       '2023-02-14', '2023-02-15', '2023-02-16', '2023-02-17',\n",
              "       '2023-02-18', '2023-02-19', '2023-02-20', '2023-02-21',\n",
              "       '2023-02-22', '2023-02-23', '2023-02-24', '2023-02-25',\n",
              "       '2023-02-26', '2023-02-27', '2023-02-28', '2023-03-01',\n",
              "       '2023-03-02', '2023-03-03', '2023-03-04', '2023-03-05',\n",
              "       '2023-03-06', '2023-03-07', '2023-03-08', '2023-03-09',\n",
              "       '2023-03-10', '2023-03-11', '2023-03-12', '2023-03-13',\n",
              "       '2023-03-14', '2023-03-15', '2023-03-16', '2023-03-17',\n",
              "       '2023-03-18', '2023-03-19', '2023-03-20', '2023-03-21',\n",
              "       '2023-03-22', '2023-03-23', '2023-03-24', '2023-03-25',\n",
              "       '2023-03-26', '2023-03-27', '2023-03-28', '2023-03-29',\n",
              "       '2023-03-30', '2023-03-31', '2023-04-01', '2023-04-02',\n",
              "       '2023-04-03', '2023-04-04', '2023-04-05', '2023-04-06',\n",
              "       '2023-04-07', '2023-04-08', '2023-04-09', '2023-04-10',\n",
              "       '2023-04-11', '2023-04-12', '2023-04-13', '2023-04-14',\n",
              "       '2023-04-15', '2023-04-16', '2023-04-17', '2023-04-18',\n",
              "       '2023-04-19', '2023-04-20', '2023-04-21', '2023-04-22',\n",
              "       '2023-04-23', '2023-04-24', '2023-04-25', '2023-04-26',\n",
              "       '2023-04-27', '2023-04-28', '2023-04-29', '2023-04-30',\n",
              "       '2023-05-01', '2023-05-02', '2023-05-03', '2023-05-04',\n",
              "       '2023-05-05', '2023-05-06', '2023-05-07', '2023-05-08',\n",
              "       '2023-05-09', '2023-05-10', '2023-05-11', '2023-05-12',\n",
              "       '2023-05-13', '2023-05-14', '2023-05-15', '2023-05-16',\n",
              "       '2023-05-17', '2023-05-18', '2023-05-19', '2023-05-20',\n",
              "       '2023-05-21', '2023-05-22', '2023-05-23', '2023-05-24',\n",
              "       '2023-05-25', '2023-05-26', '2023-05-27', '2023-05-28',\n",
              "       '2023-05-29', '2023-05-30', '2023-05-31', '2023-06-01',\n",
              "       '2023-06-02', '2023-06-03', '2023-06-04', '2023-06-05',\n",
              "       '2023-06-06', '2023-06-07', '2023-06-08', '2023-06-09',\n",
              "       '2023-06-10', '2023-06-11', '2023-06-12', '2023-06-13',\n",
              "       '2023-06-14', '2023-06-15', '2023-06-16', '2023-06-17',\n",
              "       '2023-06-18', '2023-06-19', '2023-06-20', '2023-06-21',\n",
              "       '2023-06-22', '2023-06-23', '2023-06-24', '2023-06-25',\n",
              "       '2023-06-26', '2023-06-27', '2023-06-28', '2023-06-29',\n",
              "       '2023-06-30', '2023-07-01', '2023-07-02', '2023-07-03',\n",
              "       '2023-07-04', '2023-07-05', '2023-07-06', '2023-07-07',\n",
              "       '2023-07-08', '2023-07-09', '2023-07-10', '2023-07-11',\n",
              "       '2023-07-12', '2023-07-13', '2023-07-14', '2023-07-15',\n",
              "       '2023-07-16', '2023-07-17', '2023-07-18', '2023-07-19',\n",
              "       '2023-07-20', '2023-07-21', '2023-07-22', '2023-07-23',\n",
              "       '2023-07-24', '2023-07-25', '2023-07-26', '2023-07-27',\n",
              "       '2023-07-28', '2023-07-29', '2023-07-30', '2023-07-31',\n",
              "       '2023-08-01', '2023-08-02', '2023-08-03', '2023-08-04',\n",
              "       '2023-08-05', '2023-08-06', '2023-08-07', '2023-08-08',\n",
              "       '2023-08-09', '2023-08-10', '2023-08-11', '2023-08-12',\n",
              "       '2023-08-13', '2023-08-14', '2023-08-15', '2023-08-16',\n",
              "       '2023-08-17', '2023-08-18', '2023-08-19', '2023-08-20',\n",
              "       '2023-08-21', '2023-08-22', '2023-08-23', '2023-08-24',\n",
              "       '2023-08-25', '2023-08-26', '2023-08-27', '2023-08-28',\n",
              "       '2023-08-29', '2023-08-30', '2023-08-31', '2023-09-01',\n",
              "       '2023-09-02', '2023-09-03', '2023-09-04', '2023-09-05',\n",
              "       '2023-09-06', '2023-09-07', '2023-09-08', '2023-09-09',\n",
              "       '2023-09-10', '2023-09-11', '2023-09-12', '2023-09-13',\n",
              "       '2023-09-14', '2023-09-15', '2023-09-16', '2023-09-17',\n",
              "       '2023-09-18', '2023-09-19', '2023-09-20', '2023-09-21',\n",
              "       '2023-09-22', '2023-09-23', '2023-09-24', '2023-09-25',\n",
              "       '2023-09-26', '2023-09-27', '2023-09-28', '2023-09-29',\n",
              "       '2023-09-30', '2023-10-01', '2023-10-02', '2023-10-03',\n",
              "       '2023-10-04', '2023-10-05', '2023-10-06', '2023-10-07',\n",
              "       '2023-10-08', '2023-10-09', '2023-10-10', '2023-10-11',\n",
              "       '2023-10-12', '2023-10-13', '2023-10-14', '2023-10-15',\n",
              "       '2023-10-16', '2023-10-17', '2023-10-18', '2023-10-19',\n",
              "       '2023-10-20', '2023-10-21', '2023-10-22', '2023-10-23',\n",
              "       '2023-10-24', '2023-10-25', '2023-10-26', '2023-10-27',\n",
              "       '2023-10-28', '2023-10-29', '2023-10-30', '2023-10-31',\n",
              "       '2023-11-01', '2023-11-02', '2023-11-03', '2023-11-04',\n",
              "       '2023-11-05', '2023-11-06', '2023-11-07', '2023-11-08',\n",
              "       '2023-11-09', '2023-11-10', '2023-11-11', '2023-11-12',\n",
              "       '2023-11-13', '2023-11-14', '2023-11-15', '2023-11-16',\n",
              "       '2023-11-17', '2023-11-18', '2023-11-19', '2023-11-20',\n",
              "       '2023-11-21', '2023-11-22', '2023-11-23', '2023-11-24',\n",
              "       '2023-11-25', '2023-11-26', '2023-11-27', '2023-11-28',\n",
              "       '2023-11-29', '2023-11-30', '2023-12-01', '2023-12-02',\n",
              "       '2023-12-03', '2023-12-04', '2023-12-05', '2023-12-06',\n",
              "       '2023-12-07', '2023-12-08', '2023-12-09', '2023-12-10',\n",
              "       '2023-12-11', '2023-12-12', '2023-12-13', '2023-12-14',\n",
              "       '2023-12-15', '2023-12-16', '2023-12-17', '2023-12-18',\n",
              "       '2023-12-19', '2023-12-20', '2023-12-21', '2023-12-22',\n",
              "       '2023-12-23', '2023-12-24', '2023-12-25', '2023-12-26',\n",
              "       '2023-12-27', '2023-12-28', '2023-12-29', '2023-12-30'],\n",
              "      dtype='datetime64[D]')"
            ]
          },
          "metadata": {},
          "execution_count": 26
        }
      ],
      "source": [
        "dates_array"
      ]
    },
    {
      "cell_type": "code",
      "execution_count": 27,
      "metadata": {
        "id": "6frPjxByWwky"
      },
      "outputs": [],
      "source": [
        "march_end = np.datetime64('2023-03-31')\n",
        "jan_to_march = dates_array[(dates_array >= start_date) & (dates_array <= march_end)]"
      ]
    },
    {
      "cell_type": "code",
      "execution_count": 28,
      "metadata": {
        "colab": {
          "base_uri": "https://localhost:8080/"
        },
        "id": "arRi416xWwky",
        "outputId": "1a5fd607-2fe7-41b4-e637-620e61a6c810"
      },
      "outputs": [
        {
          "output_type": "execute_result",
          "data": {
            "text/plain": [
              "array(['2023-01-01', '2023-01-02', '2023-01-03', '2023-01-04',\n",
              "       '2023-01-05', '2023-01-06', '2023-01-07', '2023-01-08',\n",
              "       '2023-01-09', '2023-01-10', '2023-01-11', '2023-01-12',\n",
              "       '2023-01-13', '2023-01-14', '2023-01-15', '2023-01-16',\n",
              "       '2023-01-17', '2023-01-18', '2023-01-19', '2023-01-20',\n",
              "       '2023-01-21', '2023-01-22', '2023-01-23', '2023-01-24',\n",
              "       '2023-01-25', '2023-01-26', '2023-01-27', '2023-01-28',\n",
              "       '2023-01-29', '2023-01-30', '2023-01-31', '2023-02-01',\n",
              "       '2023-02-02', '2023-02-03', '2023-02-04', '2023-02-05',\n",
              "       '2023-02-06', '2023-02-07', '2023-02-08', '2023-02-09',\n",
              "       '2023-02-10', '2023-02-11', '2023-02-12', '2023-02-13',\n",
              "       '2023-02-14', '2023-02-15', '2023-02-16', '2023-02-17',\n",
              "       '2023-02-18', '2023-02-19', '2023-02-20', '2023-02-21',\n",
              "       '2023-02-22', '2023-02-23', '2023-02-24', '2023-02-25',\n",
              "       '2023-02-26', '2023-02-27', '2023-02-28', '2023-03-01',\n",
              "       '2023-03-02', '2023-03-03', '2023-03-04', '2023-03-05',\n",
              "       '2023-03-06', '2023-03-07', '2023-03-08', '2023-03-09',\n",
              "       '2023-03-10', '2023-03-11', '2023-03-12', '2023-03-13',\n",
              "       '2023-03-14', '2023-03-15', '2023-03-16', '2023-03-17',\n",
              "       '2023-03-18', '2023-03-19', '2023-03-20', '2023-03-21',\n",
              "       '2023-03-22', '2023-03-23', '2023-03-24', '2023-03-25',\n",
              "       '2023-03-26', '2023-03-27', '2023-03-28', '2023-03-29',\n",
              "       '2023-03-30', '2023-03-31'], dtype='datetime64[D]')"
            ]
          },
          "metadata": {},
          "execution_count": 28
        }
      ],
      "source": [
        "jan_to_march"
      ]
    },
    {
      "cell_type": "code",
      "execution_count": 29,
      "metadata": {
        "id": "Ixw5V_FvWwky"
      },
      "outputs": [],
      "source": [
        "april_start = np.datetime64('2023-04-01')\n",
        "june_start = np.datetime64('2023-06-30')\n",
        "april_to_june = dates_array[(dates_array >= april_start) & (dates_array <= june_start)]"
      ]
    },
    {
      "cell_type": "code",
      "execution_count": 30,
      "metadata": {
        "colab": {
          "base_uri": "https://localhost:8080/"
        },
        "id": "n0hGPZkaWwkz",
        "outputId": "c1a8da70-6214-4647-90f7-1fed61f20e8b"
      },
      "outputs": [
        {
          "output_type": "execute_result",
          "data": {
            "text/plain": [
              "array(['2023-04-01', '2023-04-02', '2023-04-03', '2023-04-04',\n",
              "       '2023-04-05', '2023-04-06', '2023-04-07', '2023-04-08',\n",
              "       '2023-04-09', '2023-04-10', '2023-04-11', '2023-04-12',\n",
              "       '2023-04-13', '2023-04-14', '2023-04-15', '2023-04-16',\n",
              "       '2023-04-17', '2023-04-18', '2023-04-19', '2023-04-20',\n",
              "       '2023-04-21', '2023-04-22', '2023-04-23', '2023-04-24',\n",
              "       '2023-04-25', '2023-04-26', '2023-04-27', '2023-04-28',\n",
              "       '2023-04-29', '2023-04-30', '2023-05-01', '2023-05-02',\n",
              "       '2023-05-03', '2023-05-04', '2023-05-05', '2023-05-06',\n",
              "       '2023-05-07', '2023-05-08', '2023-05-09', '2023-05-10',\n",
              "       '2023-05-11', '2023-05-12', '2023-05-13', '2023-05-14',\n",
              "       '2023-05-15', '2023-05-16', '2023-05-17', '2023-05-18',\n",
              "       '2023-05-19', '2023-05-20', '2023-05-21', '2023-05-22',\n",
              "       '2023-05-23', '2023-05-24', '2023-05-25', '2023-05-26',\n",
              "       '2023-05-27', '2023-05-28', '2023-05-29', '2023-05-30',\n",
              "       '2023-05-31', '2023-06-01', '2023-06-02', '2023-06-03',\n",
              "       '2023-06-04', '2023-06-05', '2023-06-06', '2023-06-07',\n",
              "       '2023-06-08', '2023-06-09', '2023-06-10', '2023-06-11',\n",
              "       '2023-06-12', '2023-06-13', '2023-06-14', '2023-06-15',\n",
              "       '2023-06-16', '2023-06-17', '2023-06-18', '2023-06-19',\n",
              "       '2023-06-20', '2023-06-21', '2023-06-22', '2023-06-23',\n",
              "       '2023-06-24', '2023-06-25', '2023-06-26', '2023-06-27',\n",
              "       '2023-06-28', '2023-06-29', '2023-06-30'], dtype='datetime64[D]')"
            ]
          },
          "metadata": {},
          "execution_count": 30
        }
      ],
      "source": [
        "april_to_june"
      ]
    },
    {
      "cell_type": "code",
      "execution_count": 31,
      "metadata": {
        "colab": {
          "base_uri": "https://localhost:8080/"
        },
        "id": "DzEnn7psWwkz",
        "outputId": "f07a3e75-6819-4ec3-f3aa-610cf7dbc887"
      },
      "outputs": [
        {
          "output_type": "execute_result",
          "data": {
            "text/plain": [
              "array(['2023-07-01', '2023-07-02', '2023-07-03', '2023-07-04',\n",
              "       '2023-07-05', '2023-07-06', '2023-07-07', '2023-07-08',\n",
              "       '2023-07-09', '2023-07-10', '2023-07-11', '2023-07-12',\n",
              "       '2023-07-13', '2023-07-14', '2023-07-15', '2023-07-16',\n",
              "       '2023-07-17', '2023-07-18', '2023-07-19', '2023-07-20',\n",
              "       '2023-07-21', '2023-07-22', '2023-07-23', '2023-07-24',\n",
              "       '2023-07-25', '2023-07-26', '2023-07-27', '2023-07-28',\n",
              "       '2023-07-29', '2023-07-30', '2023-07-31', '2023-08-01',\n",
              "       '2023-08-02', '2023-08-03', '2023-08-04', '2023-08-05',\n",
              "       '2023-08-06', '2023-08-07', '2023-08-08', '2023-08-09',\n",
              "       '2023-08-10', '2023-08-11', '2023-08-12', '2023-08-13',\n",
              "       '2023-08-14', '2023-08-15', '2023-08-16', '2023-08-17',\n",
              "       '2023-08-18', '2023-08-19', '2023-08-20', '2023-08-21',\n",
              "       '2023-08-22', '2023-08-23', '2023-08-24', '2023-08-25',\n",
              "       '2023-08-26', '2023-08-27', '2023-08-28', '2023-08-29',\n",
              "       '2023-08-30', '2023-08-31', '2023-09-01', '2023-09-02',\n",
              "       '2023-09-03', '2023-09-04', '2023-09-05', '2023-09-06',\n",
              "       '2023-09-07', '2023-09-08', '2023-09-09', '2023-09-10',\n",
              "       '2023-09-11', '2023-09-12', '2023-09-13', '2023-09-14',\n",
              "       '2023-09-15', '2023-09-16', '2023-09-17', '2023-09-18',\n",
              "       '2023-09-19', '2023-09-20', '2023-09-21', '2023-09-22',\n",
              "       '2023-09-23', '2023-09-24', '2023-09-25', '2023-09-26',\n",
              "       '2023-09-27', '2023-09-28', '2023-09-29', '2023-09-30'],\n",
              "      dtype='datetime64[D]')"
            ]
          },
          "metadata": {},
          "execution_count": 31
        }
      ],
      "source": [
        "july_to_sepr = dates_array[(dates_array >= np.datetime64('2023-07-01')) & (dates_array <= np.datetime64('2023-09-30'))]\n",
        "july_to_sepr"
      ]
    },
    {
      "cell_type": "code",
      "execution_count": 32,
      "metadata": {
        "colab": {
          "base_uri": "https://localhost:8080/"
        },
        "id": "wZMlPFoMWwkz",
        "outputId": "410e0ea0-8764-4811-906d-5035eacab410"
      },
      "outputs": [
        {
          "output_type": "execute_result",
          "data": {
            "text/plain": [
              "array(['2023-10-01', '2023-10-02', '2023-10-03', '2023-10-04',\n",
              "       '2023-10-05', '2023-10-06', '2023-10-07', '2023-10-08',\n",
              "       '2023-10-09', '2023-10-10', '2023-10-11', '2023-10-12',\n",
              "       '2023-10-13', '2023-10-14', '2023-10-15', '2023-10-16',\n",
              "       '2023-10-17', '2023-10-18', '2023-10-19', '2023-10-20',\n",
              "       '2023-10-21', '2023-10-22', '2023-10-23', '2023-10-24',\n",
              "       '2023-10-25', '2023-10-26', '2023-10-27', '2023-10-28',\n",
              "       '2023-10-29', '2023-10-30', '2023-10-31', '2023-11-01',\n",
              "       '2023-11-02', '2023-11-03', '2023-11-04', '2023-11-05',\n",
              "       '2023-11-06', '2023-11-07', '2023-11-08', '2023-11-09',\n",
              "       '2023-11-10', '2023-11-11', '2023-11-12', '2023-11-13',\n",
              "       '2023-11-14', '2023-11-15', '2023-11-16', '2023-11-17',\n",
              "       '2023-11-18', '2023-11-19', '2023-11-20', '2023-11-21',\n",
              "       '2023-11-22', '2023-11-23', '2023-11-24', '2023-11-25',\n",
              "       '2023-11-26', '2023-11-27', '2023-11-28', '2023-11-29',\n",
              "       '2023-11-30', '2023-12-01', '2023-12-02', '2023-12-03',\n",
              "       '2023-12-04', '2023-12-05', '2023-12-06', '2023-12-07',\n",
              "       '2023-12-08', '2023-12-09', '2023-12-10', '2023-12-11',\n",
              "       '2023-12-12', '2023-12-13', '2023-12-14', '2023-12-15',\n",
              "       '2023-12-16', '2023-12-17', '2023-12-18', '2023-12-19',\n",
              "       '2023-12-20', '2023-12-21', '2023-12-22', '2023-12-23',\n",
              "       '2023-12-24', '2023-12-25', '2023-12-26', '2023-12-27',\n",
              "       '2023-12-28', '2023-12-29', '2023-12-30'], dtype='datetime64[D]')"
            ]
          },
          "metadata": {},
          "execution_count": 32
        }
      ],
      "source": [
        "oct_to_december = dates_array[(dates_array >= np.datetime64('2023-10-01')) & (dates_array <= np.datetime64('2023-12-31'))]\n",
        "oct_to_december"
      ]
    },
    {
      "cell_type": "markdown",
      "metadata": {
        "id": "jXjuwBsCWwkz"
      },
      "source": [
        "Exercise 9 : Data Conversion"
      ]
    },
    {
      "cell_type": "code",
      "execution_count": 33,
      "metadata": {
        "colab": {
          "base_uri": "https://localhost:8080/",
          "height": 161
        },
        "id": "1ErfYyaEWwkz",
        "outputId": "dc81c047-447d-4414-88b2-d94b45dbf213"
      },
      "outputs": [
        {
          "output_type": "stream",
          "name": "stdout",
          "text": [
            "Pandas DataFrame:\n"
          ]
        },
        {
          "output_type": "execute_result",
          "data": {
            "text/plain": [
              "   0  1  2\n",
              "0  1  2  3\n",
              "1  4  5  6\n",
              "2  7  8  9"
            ],
            "text/html": [
              "\n",
              "  <div id=\"df-026852b2-074c-4f55-9234-3a727e4b629c\" class=\"colab-df-container\">\n",
              "    <div>\n",
              "<style scoped>\n",
              "    .dataframe tbody tr th:only-of-type {\n",
              "        vertical-align: middle;\n",
              "    }\n",
              "\n",
              "    .dataframe tbody tr th {\n",
              "        vertical-align: top;\n",
              "    }\n",
              "\n",
              "    .dataframe thead th {\n",
              "        text-align: right;\n",
              "    }\n",
              "</style>\n",
              "<table border=\"1\" class=\"dataframe\">\n",
              "  <thead>\n",
              "    <tr style=\"text-align: right;\">\n",
              "      <th></th>\n",
              "      <th>0</th>\n",
              "      <th>1</th>\n",
              "      <th>2</th>\n",
              "    </tr>\n",
              "  </thead>\n",
              "  <tbody>\n",
              "    <tr>\n",
              "      <th>0</th>\n",
              "      <td>1</td>\n",
              "      <td>2</td>\n",
              "      <td>3</td>\n",
              "    </tr>\n",
              "    <tr>\n",
              "      <th>1</th>\n",
              "      <td>4</td>\n",
              "      <td>5</td>\n",
              "      <td>6</td>\n",
              "    </tr>\n",
              "    <tr>\n",
              "      <th>2</th>\n",
              "      <td>7</td>\n",
              "      <td>8</td>\n",
              "      <td>9</td>\n",
              "    </tr>\n",
              "  </tbody>\n",
              "</table>\n",
              "</div>\n",
              "    <div class=\"colab-df-buttons\">\n",
              "\n",
              "  <div class=\"colab-df-container\">\n",
              "    <button class=\"colab-df-convert\" onclick=\"convertToInteractive('df-026852b2-074c-4f55-9234-3a727e4b629c')\"\n",
              "            title=\"Convert this dataframe to an interactive table.\"\n",
              "            style=\"display:none;\">\n",
              "\n",
              "  <svg xmlns=\"http://www.w3.org/2000/svg\" height=\"24px\" viewBox=\"0 -960 960 960\">\n",
              "    <path d=\"M120-120v-720h720v720H120Zm60-500h600v-160H180v160Zm220 220h160v-160H400v160Zm0 220h160v-160H400v160ZM180-400h160v-160H180v160Zm440 0h160v-160H620v160ZM180-180h160v-160H180v160Zm440 0h160v-160H620v160Z\"/>\n",
              "  </svg>\n",
              "    </button>\n",
              "\n",
              "  <style>\n",
              "    .colab-df-container {\n",
              "      display:flex;\n",
              "      gap: 12px;\n",
              "    }\n",
              "\n",
              "    .colab-df-convert {\n",
              "      background-color: #E8F0FE;\n",
              "      border: none;\n",
              "      border-radius: 50%;\n",
              "      cursor: pointer;\n",
              "      display: none;\n",
              "      fill: #1967D2;\n",
              "      height: 32px;\n",
              "      padding: 0 0 0 0;\n",
              "      width: 32px;\n",
              "    }\n",
              "\n",
              "    .colab-df-convert:hover {\n",
              "      background-color: #E2EBFA;\n",
              "      box-shadow: 0px 1px 2px rgba(60, 64, 67, 0.3), 0px 1px 3px 1px rgba(60, 64, 67, 0.15);\n",
              "      fill: #174EA6;\n",
              "    }\n",
              "\n",
              "    .colab-df-buttons div {\n",
              "      margin-bottom: 4px;\n",
              "    }\n",
              "\n",
              "    [theme=dark] .colab-df-convert {\n",
              "      background-color: #3B4455;\n",
              "      fill: #D2E3FC;\n",
              "    }\n",
              "\n",
              "    [theme=dark] .colab-df-convert:hover {\n",
              "      background-color: #434B5C;\n",
              "      box-shadow: 0px 1px 3px 1px rgba(0, 0, 0, 0.15);\n",
              "      filter: drop-shadow(0px 1px 2px rgba(0, 0, 0, 0.3));\n",
              "      fill: #FFFFFF;\n",
              "    }\n",
              "  </style>\n",
              "\n",
              "    <script>\n",
              "      const buttonEl =\n",
              "        document.querySelector('#df-026852b2-074c-4f55-9234-3a727e4b629c button.colab-df-convert');\n",
              "      buttonEl.style.display =\n",
              "        google.colab.kernel.accessAllowed ? 'block' : 'none';\n",
              "\n",
              "      async function convertToInteractive(key) {\n",
              "        const element = document.querySelector('#df-026852b2-074c-4f55-9234-3a727e4b629c');\n",
              "        const dataTable =\n",
              "          await google.colab.kernel.invokeFunction('convertToInteractive',\n",
              "                                                    [key], {});\n",
              "        if (!dataTable) return;\n",
              "\n",
              "        const docLinkHtml = 'Like what you see? Visit the ' +\n",
              "          '<a target=\"_blank\" href=https://colab.research.google.com/notebooks/data_table.ipynb>data table notebook</a>'\n",
              "          + ' to learn more about interactive tables.';\n",
              "        element.innerHTML = '';\n",
              "        dataTable['output_type'] = 'display_data';\n",
              "        await google.colab.output.renderOutput(dataTable, element);\n",
              "        const docLink = document.createElement('div');\n",
              "        docLink.innerHTML = docLinkHtml;\n",
              "        element.appendChild(docLink);\n",
              "      }\n",
              "    </script>\n",
              "  </div>\n",
              "\n",
              "\n",
              "<div id=\"df-27ebfc1d-4ebf-4167-877e-8264e89b08f7\">\n",
              "  <button class=\"colab-df-quickchart\" onclick=\"quickchart('df-27ebfc1d-4ebf-4167-877e-8264e89b08f7')\"\n",
              "            title=\"Suggest charts\"\n",
              "            style=\"display:none;\">\n",
              "\n",
              "<svg xmlns=\"http://www.w3.org/2000/svg\" height=\"24px\"viewBox=\"0 0 24 24\"\n",
              "     width=\"24px\">\n",
              "    <g>\n",
              "        <path d=\"M19 3H5c-1.1 0-2 .9-2 2v14c0 1.1.9 2 2 2h14c1.1 0 2-.9 2-2V5c0-1.1-.9-2-2-2zM9 17H7v-7h2v7zm4 0h-2V7h2v10zm4 0h-2v-4h2v4z\"/>\n",
              "    </g>\n",
              "</svg>\n",
              "  </button>\n",
              "\n",
              "<style>\n",
              "  .colab-df-quickchart {\n",
              "      --bg-color: #E8F0FE;\n",
              "      --fill-color: #1967D2;\n",
              "      --hover-bg-color: #E2EBFA;\n",
              "      --hover-fill-color: #174EA6;\n",
              "      --disabled-fill-color: #AAA;\n",
              "      --disabled-bg-color: #DDD;\n",
              "  }\n",
              "\n",
              "  [theme=dark] .colab-df-quickchart {\n",
              "      --bg-color: #3B4455;\n",
              "      --fill-color: #D2E3FC;\n",
              "      --hover-bg-color: #434B5C;\n",
              "      --hover-fill-color: #FFFFFF;\n",
              "      --disabled-bg-color: #3B4455;\n",
              "      --disabled-fill-color: #666;\n",
              "  }\n",
              "\n",
              "  .colab-df-quickchart {\n",
              "    background-color: var(--bg-color);\n",
              "    border: none;\n",
              "    border-radius: 50%;\n",
              "    cursor: pointer;\n",
              "    display: none;\n",
              "    fill: var(--fill-color);\n",
              "    height: 32px;\n",
              "    padding: 0;\n",
              "    width: 32px;\n",
              "  }\n",
              "\n",
              "  .colab-df-quickchart:hover {\n",
              "    background-color: var(--hover-bg-color);\n",
              "    box-shadow: 0 1px 2px rgba(60, 64, 67, 0.3), 0 1px 3px 1px rgba(60, 64, 67, 0.15);\n",
              "    fill: var(--button-hover-fill-color);\n",
              "  }\n",
              "\n",
              "  .colab-df-quickchart-complete:disabled,\n",
              "  .colab-df-quickchart-complete:disabled:hover {\n",
              "    background-color: var(--disabled-bg-color);\n",
              "    fill: var(--disabled-fill-color);\n",
              "    box-shadow: none;\n",
              "  }\n",
              "\n",
              "  .colab-df-spinner {\n",
              "    border: 2px solid var(--fill-color);\n",
              "    border-color: transparent;\n",
              "    border-bottom-color: var(--fill-color);\n",
              "    animation:\n",
              "      spin 1s steps(1) infinite;\n",
              "  }\n",
              "\n",
              "  @keyframes spin {\n",
              "    0% {\n",
              "      border-color: transparent;\n",
              "      border-bottom-color: var(--fill-color);\n",
              "      border-left-color: var(--fill-color);\n",
              "    }\n",
              "    20% {\n",
              "      border-color: transparent;\n",
              "      border-left-color: var(--fill-color);\n",
              "      border-top-color: var(--fill-color);\n",
              "    }\n",
              "    30% {\n",
              "      border-color: transparent;\n",
              "      border-left-color: var(--fill-color);\n",
              "      border-top-color: var(--fill-color);\n",
              "      border-right-color: var(--fill-color);\n",
              "    }\n",
              "    40% {\n",
              "      border-color: transparent;\n",
              "      border-right-color: var(--fill-color);\n",
              "      border-top-color: var(--fill-color);\n",
              "    }\n",
              "    60% {\n",
              "      border-color: transparent;\n",
              "      border-right-color: var(--fill-color);\n",
              "    }\n",
              "    80% {\n",
              "      border-color: transparent;\n",
              "      border-right-color: var(--fill-color);\n",
              "      border-bottom-color: var(--fill-color);\n",
              "    }\n",
              "    90% {\n",
              "      border-color: transparent;\n",
              "      border-bottom-color: var(--fill-color);\n",
              "    }\n",
              "  }\n",
              "</style>\n",
              "\n",
              "  <script>\n",
              "    async function quickchart(key) {\n",
              "      const quickchartButtonEl =\n",
              "        document.querySelector('#' + key + ' button');\n",
              "      quickchartButtonEl.disabled = true;  // To prevent multiple clicks.\n",
              "      quickchartButtonEl.classList.add('colab-df-spinner');\n",
              "      try {\n",
              "        const charts = await google.colab.kernel.invokeFunction(\n",
              "            'suggestCharts', [key], {});\n",
              "      } catch (error) {\n",
              "        console.error('Error during call to suggestCharts:', error);\n",
              "      }\n",
              "      quickchartButtonEl.classList.remove('colab-df-spinner');\n",
              "      quickchartButtonEl.classList.add('colab-df-quickchart-complete');\n",
              "    }\n",
              "    (() => {\n",
              "      let quickchartButtonEl =\n",
              "        document.querySelector('#df-27ebfc1d-4ebf-4167-877e-8264e89b08f7 button');\n",
              "      quickchartButtonEl.style.display =\n",
              "        google.colab.kernel.accessAllowed ? 'block' : 'none';\n",
              "    })();\n",
              "  </script>\n",
              "</div>\n",
              "\n",
              "  <div id=\"id_92901a07-3686-4ce9-9083-b5412ae26cbe\">\n",
              "    <style>\n",
              "      .colab-df-generate {\n",
              "        background-color: #E8F0FE;\n",
              "        border: none;\n",
              "        border-radius: 50%;\n",
              "        cursor: pointer;\n",
              "        display: none;\n",
              "        fill: #1967D2;\n",
              "        height: 32px;\n",
              "        padding: 0 0 0 0;\n",
              "        width: 32px;\n",
              "      }\n",
              "\n",
              "      .colab-df-generate:hover {\n",
              "        background-color: #E2EBFA;\n",
              "        box-shadow: 0px 1px 2px rgba(60, 64, 67, 0.3), 0px 1px 3px 1px rgba(60, 64, 67, 0.15);\n",
              "        fill: #174EA6;\n",
              "      }\n",
              "\n",
              "      [theme=dark] .colab-df-generate {\n",
              "        background-color: #3B4455;\n",
              "        fill: #D2E3FC;\n",
              "      }\n",
              "\n",
              "      [theme=dark] .colab-df-generate:hover {\n",
              "        background-color: #434B5C;\n",
              "        box-shadow: 0px 1px 3px 1px rgba(0, 0, 0, 0.15);\n",
              "        filter: drop-shadow(0px 1px 2px rgba(0, 0, 0, 0.3));\n",
              "        fill: #FFFFFF;\n",
              "      }\n",
              "    </style>\n",
              "    <button class=\"colab-df-generate\" onclick=\"generateWithVariable('df')\"\n",
              "            title=\"Generate code using this dataframe.\"\n",
              "            style=\"display:none;\">\n",
              "\n",
              "  <svg xmlns=\"http://www.w3.org/2000/svg\" height=\"24px\"viewBox=\"0 0 24 24\"\n",
              "       width=\"24px\">\n",
              "    <path d=\"M7,19H8.4L18.45,9,17,7.55,7,17.6ZM5,21V16.75L18.45,3.32a2,2,0,0,1,2.83,0l1.4,1.43a1.91,1.91,0,0,1,.58,1.4,1.91,1.91,0,0,1-.58,1.4L9.25,21ZM18.45,9,17,7.55Zm-12,3A5.31,5.31,0,0,0,4.9,8.1,5.31,5.31,0,0,0,1,6.5,5.31,5.31,0,0,0,4.9,4.9,5.31,5.31,0,0,0,6.5,1,5.31,5.31,0,0,0,8.1,4.9,5.31,5.31,0,0,0,12,6.5,5.46,5.46,0,0,0,6.5,12Z\"/>\n",
              "  </svg>\n",
              "    </button>\n",
              "    <script>\n",
              "      (() => {\n",
              "      const buttonEl =\n",
              "        document.querySelector('#id_92901a07-3686-4ce9-9083-b5412ae26cbe button.colab-df-generate');\n",
              "      buttonEl.style.display =\n",
              "        google.colab.kernel.accessAllowed ? 'block' : 'none';\n",
              "\n",
              "      buttonEl.onclick = () => {\n",
              "        google.colab.notebook.generateWithVariable('df');\n",
              "      }\n",
              "      })();\n",
              "    </script>\n",
              "  </div>\n",
              "\n",
              "    </div>\n",
              "  </div>\n"
            ],
            "application/vnd.google.colaboratory.intrinsic+json": {
              "type": "dataframe",
              "variable_name": "df",
              "summary": "{\n  \"name\": \"df\",\n  \"rows\": 3,\n  \"fields\": [\n    {\n      \"column\": 0,\n      \"properties\": {\n        \"dtype\": \"number\",\n        \"std\": 3,\n        \"min\": 1,\n        \"max\": 7,\n        \"num_unique_values\": 3,\n        \"samples\": [\n          1,\n          4,\n          7\n        ],\n        \"semantic_type\": \"\",\n        \"description\": \"\"\n      }\n    },\n    {\n      \"column\": 1,\n      \"properties\": {\n        \"dtype\": \"number\",\n        \"std\": 3,\n        \"min\": 2,\n        \"max\": 8,\n        \"num_unique_values\": 3,\n        \"samples\": [\n          2,\n          5,\n          8\n        ],\n        \"semantic_type\": \"\",\n        \"description\": \"\"\n      }\n    },\n    {\n      \"column\": 2,\n      \"properties\": {\n        \"dtype\": \"number\",\n        \"std\": 3,\n        \"min\": 3,\n        \"max\": 9,\n        \"num_unique_values\": 3,\n        \"samples\": [\n          3,\n          6,\n          9\n        ],\n        \"semantic_type\": \"\",\n        \"description\": \"\"\n      }\n    }\n  ]\n}"
            }
          },
          "metadata": {},
          "execution_count": 33
        }
      ],
      "source": [
        "import numpy as np\n",
        "import pandas as pd\n",
        "\n",
        "np_array = np.array([[1, 2, 3],\n",
        "                     [4, 5, 6],\n",
        "                     [7, 8, 9]])\n",
        "\n",
        "df = pd.DataFrame(np_array)\n",
        "\n",
        "print(\"Pandas DataFrame:\")\n",
        "df"
      ]
    },
    {
      "cell_type": "code",
      "execution_count": 34,
      "metadata": {
        "colab": {
          "base_uri": "https://localhost:8080/"
        },
        "id": "9AiFzi0FWwkz",
        "outputId": "0d131301-bee1-4212-fddc-6dcfaf1d1dcb"
      },
      "outputs": [
        {
          "output_type": "stream",
          "name": "stdout",
          "text": [
            "NumPy Array:\n",
            "[[1 4 7]\n",
            " [2 5 8]\n",
            " [3 6 9]]\n"
          ]
        }
      ],
      "source": [
        "data = {'A': [1, 2, 3],\n",
        "        'B': [4, 5, 6],\n",
        "        'C': [7, 8, 9]}\n",
        "df = pd.DataFrame(data)\n",
        "\n",
        "np_array = df.to_numpy()\n",
        "\n",
        "print(\"NumPy Array:\")\n",
        "print(np_array)"
      ]
    },
    {
      "cell_type": "markdown",
      "metadata": {
        "id": "W0GhyPwAWwkz"
      },
      "source": [
        "Exercise 10 : Basic Visualization"
      ]
    },
    {
      "cell_type": "code",
      "execution_count": 35,
      "metadata": {
        "colab": {
          "base_uri": "https://localhost:8080/",
          "height": 564
        },
        "id": "AsVGbJuhWwkz",
        "outputId": "10be5658-9c16-4aa0-a477-123f19a8f9bf"
      },
      "outputs": [
        {
          "output_type": "display_data",
          "data": {
            "text/plain": [
              "<Figure size 800x600 with 1 Axes>"
            ],
            "image/png": "[encoded data removed]"
          },
          "metadata": {}
        }
      ],
      "source": [
        "np.random.seed(42)\n",
        "\n",
        "x = np.arange(0, 10, 0.1)\n",
        "y = np.random.randn(len(x))\n",
        "y2 = np.random.randint(1,len(x),size=len(x))\n",
        "# Plot the dataset\n",
        "plt.figure(figsize=(8, 6))\n",
        "plt.plot(x, y, label='Random Numbers', color='blue')\n",
        "plt.title('Random Numbers Generated with NumPy')\n",
        "plt.xlabel('X')\n",
        "plt.ylabel('Y')\n",
        "plt.legend()\n",
        "plt.grid(True)\n",
        "plt.show()"
      ]
    }
  ],
  "metadata": {
    "kernelspec": {
      "display_name": "my_env",
      "language": "python",
      "name": "python3"
    },
    "language_info": {
      "codemirror_mode": {
        "name": "ipython",
        "version": 3
      },
      "file_extension": ".py",
      "mimetype": "text/x-python",
      "name": "python",
      "nbconvert_exporter": "python",
      "pygments_lexer": "ipython3",
      "version": "3.11.5"
    },
    "colab": {
      "provenance": []
    }
  },
  "nbformat": 4,
  "nbformat_minor": 0
}