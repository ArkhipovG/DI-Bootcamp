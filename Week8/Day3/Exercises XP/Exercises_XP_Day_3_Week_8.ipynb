{
 "nbformat": 4,
 "nbformat_minor": 0,
 "metadata": {
  "colab": {
   "provenance": []
  },
  "kernelspec": {
   "name": "python3",
   "language": "python",
   "display_name": "Python 3 (ipykernel)"
  },
  "language_info": {
   "name": "python"
  }
 },
 "cells": [
  {
   "cell_type": "code",
   "source": [
    "import pandas as pd\n",
    "import re\n",
    "import nltk\n",
    "from nltk.corpus import stopwords\n",
    "from nltk.tokenize import word_tokenize\n",
    "from nltk.stem import PorterStemmer\n",
    "from sklearn.feature_extraction.text import TfidfVectorizer\n",
    "from sklearn.model_selection import train_test_split\n",
    "from sklearn.linear_model import LogisticRegression\n",
    "from sklearn.metrics import accuracy_score, classification_report, confusion_matrix"
   ],
   "metadata": {
    "id": "9WYCMD8kqi2k",
    "ExecuteTime": {
     "end_time": "2024-05-07T13:32:40.928684Z",
     "start_time": "2024-05-07T13:32:39.331996Z"
    }
   },
   "execution_count": 2,
   "outputs": []
  },
  {
   "cell_type": "code",
   "source": [
    "nltk.download('stopwords')\n",
    "nltk.download('punkt')"
   ],
   "metadata": {
    "colab": {
     "base_uri": "https://localhost:8080/"
    },
    "id": "9foIlluUwJeq",
    "outputId": "dc637c9b-7133-4cc9-acd6-8e71b372023e",
    "ExecuteTime": {
     "end_time": "2024-05-07T13:32:43.238171Z",
     "start_time": "2024-05-07T13:32:42.702516Z"
    }
   },
   "execution_count": 3,
   "outputs": [
    {
     "name": "stderr",
     "output_type": "stream",
     "text": [
      "[nltk_data] Downloading package stopwords to\n",
      "[nltk_data]     /Users/grigorijarhipov/nltk_data...\n",
      "[nltk_data]   Package stopwords is already up-to-date!\n",
      "[nltk_data] Downloading package punkt to\n",
      "[nltk_data]     /Users/grigorijarhipov/nltk_data...\n",
      "[nltk_data]   Package punkt is already up-to-date!\n"
     ]
    },
    {
     "data": {
      "text/plain": "True"
     },
     "execution_count": 3,
     "metadata": {},
     "output_type": "execute_result"
    }
   ]
  },
  {
   "cell_type": "code",
   "source": [
    "df = pd.read_csv('IMDB Dataset.csv')"
   ],
   "metadata": {
    "id": "VRUNWrnpdP0P",
    "ExecuteTime": {
     "end_time": "2024-05-07T13:32:45.868045Z",
     "start_time": "2024-05-07T13:32:44.605911Z"
    }
   },
   "execution_count": 4,
   "outputs": []
  },
  {
   "cell_type": "code",
   "source": [
    "df_imdb = df.iloc[:len(df) // 5]"
   ],
   "metadata": {
    "id": "YYM3kYf7qpii",
    "ExecuteTime": {
     "end_time": "2024-05-07T13:32:46.675716Z",
     "start_time": "2024-05-07T13:32:46.671946Z"
    }
   },
   "execution_count": 5,
   "outputs": []
  },
  {
   "cell_type": "code",
   "source": [
    "df_imdb"
   ],
   "metadata": {
    "colab": {
     "base_uri": "https://localhost:8080/",
     "height": 419
    },
    "id": "O8tXAB3Fq28u",
    "outputId": "3efa67cf-a11d-4589-c4b3-b966f159262d",
    "ExecuteTime": {
     "end_time": "2024-05-07T13:32:47.365192Z",
     "start_time": "2024-05-07T13:32:47.357945Z"
    }
   },
   "execution_count": 6,
   "outputs": [
    {
     "data": {
      "text/plain": "                                                 review sentiment\n0     One of the other reviewers has mentioned that ...  positive\n1     A wonderful little production. <br /><br />The...  positive\n2     I thought this was a wonderful way to spend ti...  positive\n3     Basically there's a family where a little boy ...  negative\n4     Petter Mattei's \"Love in the Time of Money\" is...  positive\n...                                                 ...       ...\n9995  Fun, entertaining movie about WWII German spy ...  positive\n9996  Give me a break. How can anyone say that this ...  negative\n9997  This movie is a bad movie. But after watching ...  negative\n9998  This is a movie that was probably made to ente...  negative\n9999  Smashing film about film-making. Shows the int...  positive\n\n[10000 rows x 2 columns]",
      "text/html": "<div>\n<style scoped>\n    .dataframe tbody tr th:only-of-type {\n        vertical-align: middle;\n    }\n\n    .dataframe tbody tr th {\n        vertical-align: top;\n    }\n\n    .dataframe thead th {\n        text-align: right;\n    }\n</style>\n<table border=\"1\" class=\"dataframe\">\n  <thead>\n    <tr style=\"text-align: right;\">\n      <th></th>\n      <th>review</th>\n      <th>sentiment</th>\n    </tr>\n  </thead>\n  <tbody>\n    <tr>\n      <th>0</th>\n      <td>One of the other reviewers has mentioned that ...</td>\n      <td>positive</td>\n    </tr>\n    <tr>\n      <th>1</th>\n      <td>A wonderful little production. &lt;br /&gt;&lt;br /&gt;The...</td>\n      <td>positive</td>\n    </tr>\n    <tr>\n      <th>2</th>\n      <td>I thought this was a wonderful way to spend ti...</td>\n      <td>positive</td>\n    </tr>\n    <tr>\n      <th>3</th>\n      <td>Basically there's a family where a little boy ...</td>\n      <td>negative</td>\n    </tr>\n    <tr>\n      <th>4</th>\n      <td>Petter Mattei's \"Love in the Time of Money\" is...</td>\n      <td>positive</td>\n    </tr>\n    <tr>\n      <th>...</th>\n      <td>...</td>\n      <td>...</td>\n    </tr>\n    <tr>\n      <th>9995</th>\n      <td>Fun, entertaining movie about WWII German spy ...</td>\n      <td>positive</td>\n    </tr>\n    <tr>\n      <th>9996</th>\n      <td>Give me a break. How can anyone say that this ...</td>\n      <td>negative</td>\n    </tr>\n    <tr>\n      <th>9997</th>\n      <td>This movie is a bad movie. But after watching ...</td>\n      <td>negative</td>\n    </tr>\n    <tr>\n      <th>9998</th>\n      <td>This is a movie that was probably made to ente...</td>\n      <td>negative</td>\n    </tr>\n    <tr>\n      <th>9999</th>\n      <td>Smashing film about film-making. Shows the int...</td>\n      <td>positive</td>\n    </tr>\n  </tbody>\n</table>\n<p>10000 rows × 2 columns</p>\n</div>"
     },
     "execution_count": 6,
     "metadata": {},
     "output_type": "execute_result"
    }
   ]
  },
  {
   "cell_type": "code",
   "source": [
    "df_imdb.info()"
   ],
   "metadata": {
    "colab": {
     "base_uri": "https://localhost:8080/"
    },
    "id": "VxZP9ezZrCXh",
    "outputId": "2c9c80b5-2dca-4b53-cfb2-0289318dea3d",
    "ExecuteTime": {
     "end_time": "2024-05-07T13:32:48.936507Z",
     "start_time": "2024-05-07T13:32:48.923301Z"
    }
   },
   "execution_count": 7,
   "outputs": [
    {
     "name": "stdout",
     "output_type": "stream",
     "text": [
      "<class 'pandas.core.frame.DataFrame'>\n",
      "RangeIndex: 10000 entries, 0 to 9999\n",
      "Data columns (total 2 columns):\n",
      " #   Column     Non-Null Count  Dtype \n",
      "---  ------     --------------  ----- \n",
      " 0   review     10000 non-null  object\n",
      " 1   sentiment  10000 non-null  object\n",
      "dtypes: object(2)\n",
      "memory usage: 156.4+ KB\n"
     ]
    }
   ]
  },
  {
   "cell_type": "code",
   "source": [
    "df_imdb.isnull().sum()"
   ],
   "metadata": {
    "colab": {
     "base_uri": "https://localhost:8080/"
    },
    "id": "4Ni5sZpsrOcX",
    "outputId": "f532f79d-50f4-4ee7-f08d-cb0d4306aab0",
    "ExecuteTime": {
     "end_time": "2024-05-07T13:32:50.437332Z",
     "start_time": "2024-05-07T13:32:50.429986Z"
    }
   },
   "execution_count": 8,
   "outputs": [
    {
     "data": {
      "text/plain": "review       0\nsentiment    0\ndtype: int64"
     },
     "execution_count": 8,
     "metadata": {},
     "output_type": "execute_result"
    }
   ]
  },
  {
   "cell_type": "code",
   "source": [
    "df_imdb.duplicated().sum()"
   ],
   "metadata": {
    "colab": {
     "base_uri": "https://localhost:8080/"
    },
    "id": "wodDJcaprX8J",
    "outputId": "90d61c70-40d9-4102-81be-9543d86a1765",
    "ExecuteTime": {
     "end_time": "2024-05-07T13:32:51.646571Z",
     "start_time": "2024-05-07T13:32:51.528919Z"
    }
   },
   "execution_count": 9,
   "outputs": [
    {
     "data": {
      "text/plain": "17"
     },
     "execution_count": 9,
     "metadata": {},
     "output_type": "execute_result"
    }
   ]
  },
  {
   "cell_type": "code",
   "source": [
    "df_imdb[df_imdb.duplicated()]"
   ],
   "metadata": {
    "colab": {
     "base_uri": "https://localhost:8080/",
     "height": 576
    },
    "id": "OlhGWjxOrinS",
    "outputId": "8d7df6e4-00a1-46eb-ef74-39080768f42b",
    "ExecuteTime": {
     "end_time": "2024-05-07T13:32:52.416026Z",
     "start_time": "2024-05-07T13:32:52.324858Z"
    }
   },
   "execution_count": 10,
   "outputs": [
    {
     "data": {
      "text/plain": "                                                 review sentiment\n3537  Quite what the producers of this appalling ada...  negative\n3769  My favourite police series of all time turns t...  positive\n4391  Beautiful film, pure Cassavetes style. Gena Ro...  positive\n6352  If you liked the Grinch movie... go watch that...  negative\n6479  I want very much to believe that the above quo...  negative\n6672  Sigh. I'm baffled when I see a short like this...  negative\n7221  I have always been a huge fan of \"Homicide: Li...  positive\n7222  There are plenty of comments already posted sa...  negative\n7425  The movie was excellent, save for some of the ...  positive\n7555  This movie has made me upset! When I think of ...  negative\n8040  Contains spoilers. <br /><br />The British dir...  negative\n8801  Hilarious, clean, light-hearted, and quote-wor...  positive\n8868  Ik know it is impossible to keep all details o...  negative\n8874  From director Barbet Schroder (Reversal of For...  negative\n9057  So, I'm wondering while watching this film, di...  negative\n9503  This is one of those star-filled over-the-top ...  negative\n9522  I watched this movie when Joe Bob Briggs hoste...  negative",
      "text/html": "<div>\n<style scoped>\n    .dataframe tbody tr th:only-of-type {\n        vertical-align: middle;\n    }\n\n    .dataframe tbody tr th {\n        vertical-align: top;\n    }\n\n    .dataframe thead th {\n        text-align: right;\n    }\n</style>\n<table border=\"1\" class=\"dataframe\">\n  <thead>\n    <tr style=\"text-align: right;\">\n      <th></th>\n      <th>review</th>\n      <th>sentiment</th>\n    </tr>\n  </thead>\n  <tbody>\n    <tr>\n      <th>3537</th>\n      <td>Quite what the producers of this appalling ada...</td>\n      <td>negative</td>\n    </tr>\n    <tr>\n      <th>3769</th>\n      <td>My favourite police series of all time turns t...</td>\n      <td>positive</td>\n    </tr>\n    <tr>\n      <th>4391</th>\n      <td>Beautiful film, pure Cassavetes style. Gena Ro...</td>\n      <td>positive</td>\n    </tr>\n    <tr>\n      <th>6352</th>\n      <td>If you liked the Grinch movie... go watch that...</td>\n      <td>negative</td>\n    </tr>\n    <tr>\n      <th>6479</th>\n      <td>I want very much to believe that the above quo...</td>\n      <td>negative</td>\n    </tr>\n    <tr>\n      <th>6672</th>\n      <td>Sigh. I'm baffled when I see a short like this...</td>\n      <td>negative</td>\n    </tr>\n    <tr>\n      <th>7221</th>\n      <td>I have always been a huge fan of \"Homicide: Li...</td>\n      <td>positive</td>\n    </tr>\n    <tr>\n      <th>7222</th>\n      <td>There are plenty of comments already posted sa...</td>\n      <td>negative</td>\n    </tr>\n    <tr>\n      <th>7425</th>\n      <td>The movie was excellent, save for some of the ...</td>\n      <td>positive</td>\n    </tr>\n    <tr>\n      <th>7555</th>\n      <td>This movie has made me upset! When I think of ...</td>\n      <td>negative</td>\n    </tr>\n    <tr>\n      <th>8040</th>\n      <td>Contains spoilers. &lt;br /&gt;&lt;br /&gt;The British dir...</td>\n      <td>negative</td>\n    </tr>\n    <tr>\n      <th>8801</th>\n      <td>Hilarious, clean, light-hearted, and quote-wor...</td>\n      <td>positive</td>\n    </tr>\n    <tr>\n      <th>8868</th>\n      <td>Ik know it is impossible to keep all details o...</td>\n      <td>negative</td>\n    </tr>\n    <tr>\n      <th>8874</th>\n      <td>From director Barbet Schroder (Reversal of For...</td>\n      <td>negative</td>\n    </tr>\n    <tr>\n      <th>9057</th>\n      <td>So, I'm wondering while watching this film, di...</td>\n      <td>negative</td>\n    </tr>\n    <tr>\n      <th>9503</th>\n      <td>This is one of those star-filled over-the-top ...</td>\n      <td>negative</td>\n    </tr>\n    <tr>\n      <th>9522</th>\n      <td>I watched this movie when Joe Bob Briggs hoste...</td>\n      <td>negative</td>\n    </tr>\n  </tbody>\n</table>\n</div>"
     },
     "execution_count": 10,
     "metadata": {},
     "output_type": "execute_result"
    }
   ]
  },
  {
   "cell_type": "code",
   "source": [
    "df_imdb = df_imdb.drop_duplicates()"
   ],
   "metadata": {
    "id": "0GiUe2ewrt00",
    "ExecuteTime": {
     "end_time": "2024-05-07T13:32:53.131044Z",
     "start_time": "2024-05-07T13:32:53.071047Z"
    }
   },
   "execution_count": 11,
   "outputs": []
  },
  {
   "cell_type": "code",
   "source": [
    "df_imdb"
   ],
   "metadata": {
    "colab": {
     "base_uri": "https://localhost:8080/",
     "height": 419
    },
    "id": "jnDlsd5ar8J9",
    "outputId": "5b1d47a7-ad1e-43f2-f9fd-dc2ab7724c78",
    "ExecuteTime": {
     "end_time": "2024-05-07T13:32:54.040684Z",
     "start_time": "2024-05-07T13:32:54.034186Z"
    }
   },
   "execution_count": 12,
   "outputs": [
    {
     "data": {
      "text/plain": "                                                 review sentiment\n0     One of the other reviewers has mentioned that ...  positive\n1     A wonderful little production. <br /><br />The...  positive\n2     I thought this was a wonderful way to spend ti...  positive\n3     Basically there's a family where a little boy ...  negative\n4     Petter Mattei's \"Love in the Time of Money\" is...  positive\n...                                                 ...       ...\n9995  Fun, entertaining movie about WWII German spy ...  positive\n9996  Give me a break. How can anyone say that this ...  negative\n9997  This movie is a bad movie. But after watching ...  negative\n9998  This is a movie that was probably made to ente...  negative\n9999  Smashing film about film-making. Shows the int...  positive\n\n[9983 rows x 2 columns]",
      "text/html": "<div>\n<style scoped>\n    .dataframe tbody tr th:only-of-type {\n        vertical-align: middle;\n    }\n\n    .dataframe tbody tr th {\n        vertical-align: top;\n    }\n\n    .dataframe thead th {\n        text-align: right;\n    }\n</style>\n<table border=\"1\" class=\"dataframe\">\n  <thead>\n    <tr style=\"text-align: right;\">\n      <th></th>\n      <th>review</th>\n      <th>sentiment</th>\n    </tr>\n  </thead>\n  <tbody>\n    <tr>\n      <th>0</th>\n      <td>One of the other reviewers has mentioned that ...</td>\n      <td>positive</td>\n    </tr>\n    <tr>\n      <th>1</th>\n      <td>A wonderful little production. &lt;br /&gt;&lt;br /&gt;The...</td>\n      <td>positive</td>\n    </tr>\n    <tr>\n      <th>2</th>\n      <td>I thought this was a wonderful way to spend ti...</td>\n      <td>positive</td>\n    </tr>\n    <tr>\n      <th>3</th>\n      <td>Basically there's a family where a little boy ...</td>\n      <td>negative</td>\n    </tr>\n    <tr>\n      <th>4</th>\n      <td>Petter Mattei's \"Love in the Time of Money\" is...</td>\n      <td>positive</td>\n    </tr>\n    <tr>\n      <th>...</th>\n      <td>...</td>\n      <td>...</td>\n    </tr>\n    <tr>\n      <th>9995</th>\n      <td>Fun, entertaining movie about WWII German spy ...</td>\n      <td>positive</td>\n    </tr>\n    <tr>\n      <th>9996</th>\n      <td>Give me a break. How can anyone say that this ...</td>\n      <td>negative</td>\n    </tr>\n    <tr>\n      <th>9997</th>\n      <td>This movie is a bad movie. But after watching ...</td>\n      <td>negative</td>\n    </tr>\n    <tr>\n      <th>9998</th>\n      <td>This is a movie that was probably made to ente...</td>\n      <td>negative</td>\n    </tr>\n    <tr>\n      <th>9999</th>\n      <td>Smashing film about film-making. Shows the int...</td>\n      <td>positive</td>\n    </tr>\n  </tbody>\n</table>\n<p>9983 rows × 2 columns</p>\n</div>"
     },
     "execution_count": 12,
     "metadata": {},
     "output_type": "execute_result"
    }
   ]
  },
  {
   "cell_type": "code",
   "source": [
    "df_imdb['words_count'] = df_imdb['review'].apply(lambda x: len(x.split()))"
   ],
   "metadata": {
    "colab": {
     "base_uri": "https://localhost:8080/",
     "height": 326
    },
    "id": "o9kRfop3sncl",
    "outputId": "2d9975ca-74a1-4edb-d2d4-29feeccbb544"
   },
   "execution_count": null,
   "outputs": []
  },
  {
   "cell_type": "code",
   "source": [
    "stop_words = set(stopwords.words('english'))"
   ],
   "metadata": {
    "id": "NW5LqEuryfs5",
    "ExecuteTime": {
     "end_time": "2024-05-07T13:33:30.745921Z",
     "start_time": "2024-05-07T13:33:30.741217Z"
    }
   },
   "execution_count": 15,
   "outputs": []
  },
  {
   "cell_type": "code",
   "source": [
    "def simple_preprocessing(text):\n",
    "\n",
    "  processed_text = []\n",
    "  for review in df_imdb['review']:\n",
    "    # Lowercase the text\n",
    "    review = review.lower()\n",
    "\n",
    "    # Remove HTML tags\n",
    "    review = re.sub(r'<.*?>', '', review)\n",
    "\n",
    "    # Remove urls\n",
    "    review = re.sub(r'http\\S+', '', review)\n",
    "\n",
    "    # Remove hashtags and @ symbols\n",
    "    review = re.sub(r'#', '', review)\n",
    "    review = re.sub(r'@', '', review)\n",
    "\n",
    "\n",
    "    # Tokenize the text\n",
    "    tokens = word_tokenize(review)\n",
    "\n",
    "    # Remove punctuation\n",
    "    tokens = [token for token in tokens if token.isalpha()]\n",
    "\n",
    "    # Remove stop words\n",
    "    tokens = [token for token in tokens if token not in stop_words]\n",
    "\n",
    "    # Join the tokens back into a string\n",
    "    processed_text.append(' '.join(tokens))\n",
    "\n",
    "  return processed_text"
   ],
   "metadata": {
    "id": "ZeklbutrtGqk",
    "ExecuteTime": {
     "end_time": "2024-05-07T13:33:32.802272Z",
     "start_time": "2024-05-07T13:33:32.794072Z"
    }
   },
   "execution_count": 16,
   "outputs": []
  },
  {
   "cell_type": "code",
   "source": [
    "preprocessed_df = df_imdb"
   ],
   "metadata": {
    "id": "8IPH9gJc5cDP",
    "ExecuteTime": {
     "end_time": "2024-05-07T13:33:37.189705Z",
     "start_time": "2024-05-07T13:33:37.186698Z"
    }
   },
   "execution_count": 17,
   "outputs": []
  },
  {
   "cell_type": "code",
   "source": [
    "preprocessed_df['review'] = simple_preprocessing(df_imdb)\n",
    "preprocessed_df['words_count'] = preprocessed_df['review'].apply(lambda x: len(x.split()))"
   ],
   "metadata": {
    "id": "ClFgvTuczbXu"
   },
   "execution_count": null,
   "outputs": []
  },
  {
   "cell_type": "code",
   "source": [
    "preprocessed_df"
   ],
   "metadata": {
    "colab": {
     "base_uri": "https://localhost:8080/",
     "height": 419
    },
    "id": "YM-pvK_N5YOr",
    "outputId": "79fc013a-607e-470e-9bd4-dca73303886b",
    "ExecuteTime": {
     "end_time": "2024-05-07T13:33:51.964070Z",
     "start_time": "2024-05-07T13:33:51.955345Z"
    }
   },
   "execution_count": 19,
   "outputs": [
    {
     "data": {
      "text/plain": "                                                 review sentiment  words_count\n0     one reviewers mentioned watching oz episode ho...  positive          162\n1     wonderful little production filming technique ...  positive           80\n2     thought wonderful way spend time hot summer we...  positive           80\n3     basically family little boy jake thinks zombie...  negative           60\n4     petter mattei love time money visually stunnin...  positive          119\n...                                                 ...       ...          ...\n9995  fun entertaining movie wwii german spy julie a...  positive           86\n9996  give break anyone say good hockey movie know m...  negative          102\n9997  movie bad movie watching endless series bad ho...  negative          105\n9998  movie probably made entertain middle school ea...  negative           63\n9999  smashing film shows intense strange relationsh...  positive           47\n\n[9983 rows x 3 columns]",
      "text/html": "<div>\n<style scoped>\n    .dataframe tbody tr th:only-of-type {\n        vertical-align: middle;\n    }\n\n    .dataframe tbody tr th {\n        vertical-align: top;\n    }\n\n    .dataframe thead th {\n        text-align: right;\n    }\n</style>\n<table border=\"1\" class=\"dataframe\">\n  <thead>\n    <tr style=\"text-align: right;\">\n      <th></th>\n      <th>review</th>\n      <th>sentiment</th>\n      <th>words_count</th>\n    </tr>\n  </thead>\n  <tbody>\n    <tr>\n      <th>0</th>\n      <td>one reviewers mentioned watching oz episode ho...</td>\n      <td>positive</td>\n      <td>162</td>\n    </tr>\n    <tr>\n      <th>1</th>\n      <td>wonderful little production filming technique ...</td>\n      <td>positive</td>\n      <td>80</td>\n    </tr>\n    <tr>\n      <th>2</th>\n      <td>thought wonderful way spend time hot summer we...</td>\n      <td>positive</td>\n      <td>80</td>\n    </tr>\n    <tr>\n      <th>3</th>\n      <td>basically family little boy jake thinks zombie...</td>\n      <td>negative</td>\n      <td>60</td>\n    </tr>\n    <tr>\n      <th>4</th>\n      <td>petter mattei love time money visually stunnin...</td>\n      <td>positive</td>\n      <td>119</td>\n    </tr>\n    <tr>\n      <th>...</th>\n      <td>...</td>\n      <td>...</td>\n      <td>...</td>\n    </tr>\n    <tr>\n      <th>9995</th>\n      <td>fun entertaining movie wwii german spy julie a...</td>\n      <td>positive</td>\n      <td>86</td>\n    </tr>\n    <tr>\n      <th>9996</th>\n      <td>give break anyone say good hockey movie know m...</td>\n      <td>negative</td>\n      <td>102</td>\n    </tr>\n    <tr>\n      <th>9997</th>\n      <td>movie bad movie watching endless series bad ho...</td>\n      <td>negative</td>\n      <td>105</td>\n    </tr>\n    <tr>\n      <th>9998</th>\n      <td>movie probably made entertain middle school ea...</td>\n      <td>negative</td>\n      <td>63</td>\n    </tr>\n    <tr>\n      <th>9999</th>\n      <td>smashing film shows intense strange relationsh...</td>\n      <td>positive</td>\n      <td>47</td>\n    </tr>\n  </tbody>\n</table>\n<p>9983 rows × 3 columns</p>\n</div>"
     },
     "execution_count": 19,
     "metadata": {},
     "output_type": "execute_result"
    }
   ]
  },
  {
   "cell_type": "code",
   "source": [
    "def stemming(df):\n",
    "  stemmer = PorterStemmer()\n",
    "  df['review'] = df['review'].apply(lambda x: ' '.join([stemmer.stem(word) for word in x.split()]))\n",
    "  return df"
   ],
   "metadata": {
    "id": "XmNqJJbL6zXp",
    "ExecuteTime": {
     "end_time": "2024-05-07T13:35:24.017348Z",
     "start_time": "2024-05-07T13:35:24.010495Z"
    }
   },
   "execution_count": 20,
   "outputs": []
  },
  {
   "cell_type": "code",
   "source": [
    "stemmed_df = stemming(preprocessed_df)"
   ],
   "metadata": {
    "id": "EbBwCIg467AD"
   },
   "execution_count": null,
   "outputs": []
  },
  {
   "cell_type": "code",
   "source": [
    "stemmed_df"
   ],
   "metadata": {
    "colab": {
     "base_uri": "https://localhost:8080/",
     "height": 419
    },
    "id": "fX0a1lfr7JC1",
    "outputId": "fddc27d9-2a6f-458f-ec8f-875024cd0ed8",
    "ExecuteTime": {
     "end_time": "2024-05-07T13:35:52.029650Z",
     "start_time": "2024-05-07T13:35:52.021446Z"
    }
   },
   "execution_count": 22,
   "outputs": [
    {
     "data": {
      "text/plain": "                                                 review sentiment  words_count\n0     one review mention watch oz episod hook right ...  positive          162\n1     wonder littl product film techniqu fashion giv...  positive           80\n2     thought wonder way spend time hot summer weeke...  positive           80\n3     basic famili littl boy jake think zombi closet...  negative           60\n4     petter mattei love time money visual stun film...  positive          119\n...                                                 ...       ...          ...\n9995  fun entertain movi wwii german spi juli andrew...  positive           86\n9996  give break anyon say good hockey movi know mov...  negative          102\n9997  movi bad movi watch endless seri bad horror mo...  negative          105\n9998  movi probabl made entertain middl school earli...  negative           63\n9999  smash film show intens strang relationship dev...  positive           47\n\n[9983 rows x 3 columns]",
      "text/html": "<div>\n<style scoped>\n    .dataframe tbody tr th:only-of-type {\n        vertical-align: middle;\n    }\n\n    .dataframe tbody tr th {\n        vertical-align: top;\n    }\n\n    .dataframe thead th {\n        text-align: right;\n    }\n</style>\n<table border=\"1\" class=\"dataframe\">\n  <thead>\n    <tr style=\"text-align: right;\">\n      <th></th>\n      <th>review</th>\n      <th>sentiment</th>\n      <th>words_count</th>\n    </tr>\n  </thead>\n  <tbody>\n    <tr>\n      <th>0</th>\n      <td>one review mention watch oz episod hook right ...</td>\n      <td>positive</td>\n      <td>162</td>\n    </tr>\n    <tr>\n      <th>1</th>\n      <td>wonder littl product film techniqu fashion giv...</td>\n      <td>positive</td>\n      <td>80</td>\n    </tr>\n    <tr>\n      <th>2</th>\n      <td>thought wonder way spend time hot summer weeke...</td>\n      <td>positive</td>\n      <td>80</td>\n    </tr>\n    <tr>\n      <th>3</th>\n      <td>basic famili littl boy jake think zombi closet...</td>\n      <td>negative</td>\n      <td>60</td>\n    </tr>\n    <tr>\n      <th>4</th>\n      <td>petter mattei love time money visual stun film...</td>\n      <td>positive</td>\n      <td>119</td>\n    </tr>\n    <tr>\n      <th>...</th>\n      <td>...</td>\n      <td>...</td>\n      <td>...</td>\n    </tr>\n    <tr>\n      <th>9995</th>\n      <td>fun entertain movi wwii german spi juli andrew...</td>\n      <td>positive</td>\n      <td>86</td>\n    </tr>\n    <tr>\n      <th>9996</th>\n      <td>give break anyon say good hockey movi know mov...</td>\n      <td>negative</td>\n      <td>102</td>\n    </tr>\n    <tr>\n      <th>9997</th>\n      <td>movi bad movi watch endless seri bad horror mo...</td>\n      <td>negative</td>\n      <td>105</td>\n    </tr>\n    <tr>\n      <th>9998</th>\n      <td>movi probabl made entertain middl school earli...</td>\n      <td>negative</td>\n      <td>63</td>\n    </tr>\n    <tr>\n      <th>9999</th>\n      <td>smash film show intens strang relationship dev...</td>\n      <td>positive</td>\n      <td>47</td>\n    </tr>\n  </tbody>\n</table>\n<p>9983 rows × 3 columns</p>\n</div>"
     },
     "execution_count": 22,
     "metadata": {},
     "output_type": "execute_result"
    }
   ]
  },
  {
   "cell_type": "code",
   "source": [
    "stemmed_df['sentiment'] = stemmed_df['sentiment'].apply(lambda x: 1 if x == 'positive' else 0)"
   ],
   "metadata": {
    "id": "AcIcmIEv7Pgh"
   },
   "execution_count": null,
   "outputs": []
  },
  {
   "cell_type": "code",
   "source": [
    "stemmed_df.info()"
   ],
   "metadata": {
    "colab": {
     "base_uri": "https://localhost:8080/"
    },
    "id": "yWCvKEkW7y1B",
    "outputId": "31937163-0728-415c-99ba-bc68a24e6d26",
    "ExecuteTime": {
     "end_time": "2024-05-07T13:36:03.349113Z",
     "start_time": "2024-05-07T13:36:03.335634Z"
    }
   },
   "execution_count": 24,
   "outputs": [
    {
     "name": "stdout",
     "output_type": "stream",
     "text": [
      "<class 'pandas.core.frame.DataFrame'>\n",
      "Index: 9983 entries, 0 to 9999\n",
      "Data columns (total 3 columns):\n",
      " #   Column       Non-Null Count  Dtype \n",
      "---  ------       --------------  ----- \n",
      " 0   review       9983 non-null   object\n",
      " 1   sentiment    9983 non-null   int64 \n",
      " 2   words_count  9983 non-null   int64 \n",
      "dtypes: int64(2), object(1)\n",
      "memory usage: 312.0+ KB\n"
     ]
    }
   ]
  },
  {
   "cell_type": "code",
   "source": [
    "X = stemmed_df['review']\n",
    "y = stemmed_df['sentiment']"
   ],
   "metadata": {
    "id": "iBvzgbIF9ad5",
    "ExecuteTime": {
     "end_time": "2024-05-07T13:36:06.621135Z",
     "start_time": "2024-05-07T13:36:06.617042Z"
    }
   },
   "execution_count": 25,
   "outputs": []
  },
  {
   "cell_type": "code",
   "source": [
    "vectorizer = TfidfVectorizer()\n",
    "X_tfidf = vectorizer.fit_transform(X)\n",
    "X_tfidf.shape"
   ],
   "metadata": {
    "colab": {
     "base_uri": "https://localhost:8080/"
    },
    "id": "1Eqedl9N-NL_",
    "outputId": "73c88cb7-1feb-4053-ff73-115a24652ed7",
    "ExecuteTime": {
     "end_time": "2024-05-07T13:36:09.088628Z",
     "start_time": "2024-05-07T13:36:08.349480Z"
    }
   },
   "execution_count": 26,
   "outputs": [
    {
     "data": {
      "text/plain": "(9983, 34436)"
     },
     "execution_count": 26,
     "metadata": {},
     "output_type": "execute_result"
    }
   ]
  },
  {
   "cell_type": "code",
   "source": [
    "X_train, X_test, y_train, y_test = train_test_split(X_tfidf, y, test_size=0.3, random_state=42)"
   ],
   "metadata": {
    "id": "aGFLgur8-P86",
    "ExecuteTime": {
     "end_time": "2024-05-07T13:36:10.043057Z",
     "start_time": "2024-05-07T13:36:10.031332Z"
    }
   },
   "execution_count": 27,
   "outputs": []
  },
  {
   "cell_type": "code",
   "source": [
    "print(X_train.shape)\n",
    "print(y_train.shape)\n",
    "print(X_test.shape)\n",
    "print(y_test.shape)"
   ],
   "metadata": {
    "colab": {
     "base_uri": "https://localhost:8080/"
    },
    "id": "UPYaOkgc-cyP",
    "outputId": "9a7a2ce4-cbd8-431f-f072-7e52543b0c2d",
    "ExecuteTime": {
     "end_time": "2024-05-07T13:36:12.387938Z",
     "start_time": "2024-05-07T13:36:12.384288Z"
    }
   },
   "execution_count": 28,
   "outputs": [
    {
     "name": "stdout",
     "output_type": "stream",
     "text": [
      "(6988, 34436)\n",
      "(6988,)\n",
      "(2995, 34436)\n",
      "(2995,)\n"
     ]
    }
   ]
  },
  {
   "cell_type": "code",
   "source": [
    "# Instantiate the model\n",
    "logreg = LogisticRegression()\n",
    "\n",
    "# Train the model\n",
    "logreg.fit(X_train, y_train)\n",
    "\n",
    "# Predict on the test data.\n",
    "y_pred = logreg.predict(X_test)\n",
    "\n",
    "# Create an accuracy variable to check the model\n",
    "accuracy = logreg.score(X_test, y_test)\n",
    "\n",
    "# Print the accuracy\n",
    "print(f\"Accuracy: {accuracy:.2f}\")\n"
   ],
   "metadata": {
    "id": "ubHMZdVaAWy5",
    "ExecuteTime": {
     "end_time": "2024-05-07T13:52:36.200686Z",
     "start_time": "2024-05-07T13:52:35.977698Z"
    }
   },
   "execution_count": 46,
   "outputs": [
    {
     "name": "stdout",
     "output_type": "stream",
     "text": [
      "Accuracy: 0.87\n"
     ]
    }
   ]
  },
  {
   "cell_type": "markdown",
   "source": [
    "# What is the accuracy score? Is that a good score? How you can check further?\n",
    "\n",
    "The accuracy score is 0.87. This is a good score, but it is not perfect. To check further, you can look at the classification report and the confusion matrix.\n",
    "\n",
    "The classification report shows the precision, recall, and F1 score for each class. The precision is the proportion of predicted positives that were actually positive. The recall is the proportion of actual positives that were correctly predicted. The F1 score is the harmonic mean of the precision and recall.\n",
    "\n",
    "The confusion matrix shows the number of true positives, true negatives, false positives, and false negatives.\n",
    "\n"
   ],
   "metadata": {
    "id": "5voaUb_dAnP9"
   }
  },
  {
   "cell_type": "code",
   "source": [
    "# Evaluate the model.\n",
    "accuracy = accuracy_score(y_test, y_pred)\n",
    "print(\"Accuracy:\", accuracy)\n",
    "\n",
    "print(classification_report(y_test, y_pred))\n",
    "\n",
    "print(confusion_matrix(y_test, y_pred))"
   ],
   "metadata": {
    "id": "NMPD-JwsHrRF",
    "ExecuteTime": {
     "end_time": "2024-05-07T13:52:39.795740Z",
     "start_time": "2024-05-07T13:52:39.775631Z"
    }
   },
   "execution_count": 47,
   "outputs": [
    {
     "name": "stdout",
     "output_type": "stream",
     "text": [
      "Accuracy: 0.8737896494156928\n",
      "              precision    recall  f1-score   support\n",
      "\n",
      "           0       0.89      0.85      0.87      1488\n",
      "           1       0.86      0.90      0.88      1507\n",
      "\n",
      "    accuracy                           0.87      2995\n",
      "   macro avg       0.87      0.87      0.87      2995\n",
      "weighted avg       0.87      0.87      0.87      2995\n",
      "\n",
      "[[1261  227]\n",
      " [ 151 1356]]\n"
     ]
    }
   ]
  },
  {
   "cell_type": "code",
   "source": [
    "reviews = [\"I loved this movie!\", \"This movie was a bad comedy movie!\"]\n",
    "\n",
    "# Convert the reviews to TF-IDF vectors\n",
    "X_tfidf = vectorizer.transform(reviews)\n",
    "\n",
    "# Predict the sentiment of the reviews\n",
    "y_pred = logreg.predict(X_tfidf)\n",
    "\n",
    "# Print the predicted sentiment\n",
    "for review, sentiment in zip(reviews, y_pred):\n",
    "  if sentiment == 1:\n",
    "    print(f\"{review}: positive\")\n",
    "  else:\n",
    "    print(f\"{review}: negative\")\n"
   ],
   "metadata": {
    "id": "C_oaNys8G6Sb",
    "ExecuteTime": {
     "end_time": "2024-05-07T13:52:48.669492Z",
     "start_time": "2024-05-07T13:52:48.661463Z"
    }
   },
   "execution_count": 48,
   "outputs": [
    {
     "name": "stdout",
     "output_type": "stream",
     "text": [
      "I loved this movie!: positive\n",
      "This movie was a bad comedy movie!: negative\n"
     ]
    }
   ]
  },
  {
   "cell_type": "code",
   "source": [
    "def predict_sent(review):\n",
    "\n",
    "  # Convert the review to TF-IDF vectors\n",
    "  X_tfidf = vectorizer.transform([review])\n",
    "\n",
    "  # Predict the sentiment of the review\n",
    "  prediction = logreg.predict(X_tfidf)[0]\n",
    "\n",
    "  # Print the predicted sentiment\n",
    "  if prediction == 1:\n",
    "    return \"The review is positive\"\n",
    "  else:\n",
    "    return \"The review is negative\"\n",
    "\n",
    "\n"
   ],
   "metadata": {
    "id": "osIPFfn7K5qu",
    "ExecuteTime": {
     "end_time": "2024-05-07T13:52:56.377964Z",
     "start_time": "2024-05-07T13:52:56.372194Z"
    }
   },
   "execution_count": 49,
   "outputs": []
  },
  {
   "cell_type": "code",
   "source": [
    "pos_review = 'I have only ever seen this film once, I only ever want to see this film once and I will only ever need to see this film once. It is etched on my mind. I, like many others, left in silence. I could not imagine inventing a critical analysis of this film, picking small points of detail or of style, or even scoring points off the Director. It stands alone as a monumental piece of cinema, a magnificent accomplishment.'\n",
    "predict_sent(pos_review)"
   ],
   "metadata": {
    "id": "xHaE8gSMLqvL",
    "ExecuteTime": {
     "end_time": "2024-05-07T13:52:57.870425Z",
     "start_time": "2024-05-07T13:52:57.864260Z"
    }
   },
   "execution_count": 50,
   "outputs": [
    {
     "data": {
      "text/plain": "'The review is positive'"
     },
     "execution_count": 50,
     "metadata": {},
     "output_type": "execute_result"
    }
   ]
  },
  {
   "cell_type": "code",
   "source": [
    "neg_review = \"This is not a movie, it's just a shame! The worst movie I have ever seen. This is simply a fraud. This crap just does not make any sense. There have been some bad films made but this is a travesty. It is hard to believe that money was spent to make this. Do not watch or buy this trash.\"\n",
    "\n",
    "predict_sent(neg_review)"
   ],
   "metadata": {
    "id": "6YMTm7B4L8iL",
    "ExecuteTime": {
     "end_time": "2024-05-07T13:52:59.009797Z",
     "start_time": "2024-05-07T13:52:59.004283Z"
    }
   },
   "execution_count": 51,
   "outputs": [
    {
     "data": {
      "text/plain": "'The review is negative'"
     },
     "execution_count": 51,
     "metadata": {},
     "output_type": "execute_result"
    }
   ]
  },
  {
   "cell_type": "code",
   "outputs": [],
   "source": [],
   "metadata": {
    "collapsed": false
   }
  }
 ]
}
