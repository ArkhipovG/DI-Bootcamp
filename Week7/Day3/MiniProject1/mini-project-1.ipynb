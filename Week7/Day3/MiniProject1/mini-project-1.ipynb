{
 "cells": [
  {
   "cell_type": "code",
   "outputs": [],
   "source": [
    "from selenium import webdriver\n",
    "from selenium.webdriver.common.by import By\n",
    "from selenium.webdriver.support.ui import WebDriverWait\n",
    "from bs4 import BeautifulSoup\n",
    "import time\n",
    "import pandas as pd\n"
   ],
   "metadata": {
    "collapsed": false,
    "ExecuteTime": {
     "end_time": "2024-04-16T11:56:26.243833Z",
     "start_time": "2024-04-16T11:56:26.236518Z"
    }
   },
   "id": "1e6878fbb0420d46",
   "execution_count": 237
  },
  {
   "cell_type": "code",
   "execution_count": 238,
   "id": "initial_id",
   "metadata": {
    "collapsed": true,
    "ExecuteTime": {
     "end_time": "2024-04-16T11:56:45.060930Z",
     "start_time": "2024-04-16T11:56:26.247310Z"
    }
   },
   "outputs": [],
   "source": [
    "# URL of the webpage\n",
    "url = 'https://familynekretnine.rs/'\n",
    "\n",
    "# Initialize a Chrome webdriver\n",
    "driver = webdriver.Chrome()\n",
    "\n",
    "# Open the webpage\n",
    "driver.get(url)\n",
    "wait = WebDriverWait(driver, 10)\n",
    "\n",
    "# Change the language of the page to English\n",
    "language_button = driver.find_element(By.CLASS_NAME, \"nturl.notranslate.en.flag.united-states\")\n",
    "\n",
    "# Click the button\n",
    "language_button.click()\n",
    "\n",
    "# Wait for the page to load\n",
    "time.sleep(5)\n",
    "\n",
    "# Extract the page source\n",
    "page_source = driver.page_source\n"
   ]
  },
  {
   "cell_type": "code",
   "outputs": [],
   "source": [
    "# Parse the HTML using BeautifulSoup\n",
    "main_page_soup = BeautifulSoup(page_source, 'html.parser')\n",
    "\n",
    "# Find all property titles\n",
    "section = main_page_soup.find('section', class_='elementor-section elementor-top-section elementor-element elementor-element-cc04295 elementor-section-boxed elementor-section-height-default elementor-section-height-default')\n",
    "\n",
    "property_categories = []\n",
    "\n",
    "categories = section.find_all('div', class_='wdk-col')\n",
    "\n",
    "# Extract and print the titles\n",
    "for category in categories:\n",
    "    property_categories.append(category.h3.text.strip())\n"
   ],
   "metadata": {
    "collapsed": false,
    "ExecuteTime": {
     "end_time": "2024-04-16T11:56:45.187113Z",
     "start_time": "2024-04-16T11:56:45.063555Z"
    }
   },
   "id": "48fcc64ebed1b05d",
   "execution_count": 239
  },
  {
   "cell_type": "code",
   "outputs": [
    {
     "data": {
      "text/plain": "['Apartments', 'Houses', 'Business premises', 'Lands', 'Parking places']"
     },
     "execution_count": 240,
     "metadata": {},
     "output_type": "execute_result"
    }
   ],
   "source": [
    "property_categories"
   ],
   "metadata": {
    "collapsed": false,
    "ExecuteTime": {
     "end_time": "2024-04-16T11:56:45.200673Z",
     "start_time": "2024-04-16T11:56:45.194141Z"
    }
   },
   "id": "b05f496160fe9ad3",
   "execution_count": 240
  },
  {
   "cell_type": "code",
   "outputs": [],
   "source": [
    "# Click on Sale Page\n",
    "sale_page_button = driver.find_element(By.CLASS_NAME, \"menu-item.menu-item-type-post_type.menu-item-object-page.menu-item-3833\")\n",
    "\n",
    "# Click the button\n",
    "sale_page_button.click()\n",
    "\n",
    "# Wait for the page to load\n",
    "time.sleep(5)"
   ],
   "metadata": {
    "collapsed": false,
    "ExecuteTime": {
     "end_time": "2024-04-16T11:56:53.228310Z",
     "start_time": "2024-04-16T11:56:45.201617Z"
    }
   },
   "id": "d1f3557717c91003",
   "execution_count": 241
  },
  {
   "cell_type": "code",
   "outputs": [],
   "source": [
    "titles = []\n",
    "prices = []\n",
    "squares = []\n",
    "property_types = []"
   ],
   "metadata": {
    "collapsed": false,
    "ExecuteTime": {
     "end_time": "2024-04-16T11:56:53.235955Z",
     "start_time": "2024-04-16T11:56:53.230574Z"
    }
   },
   "id": "6ee7ae0d70ec7ff7",
   "execution_count": 242
  },
  {
   "cell_type": "code",
   "outputs": [],
   "source": [
    "# Scrapping information about properties\n",
    "for i in range(len(property_categories)):\n",
    "    \n",
    "    # Find all links within the specified div\n",
    "    links_container = driver.find_element(By.CLASS_NAME, \"wdk-categories-list\")\n",
    "    links = links_container.find_elements(By.TAG_NAME, \"a\")\n",
    "   \n",
    "    # Click the link\n",
    "    links[i].click()\n",
    "    # Wait for the page to load\n",
    "    time.sleep(5)\n",
    "    \n",
    "    # Extract the page source\n",
    "    sale_page_source = driver.page_source\n",
    "    \n",
    "    # Parse the HTML using BeautifulSoup\n",
    "    sale_page_soup = BeautifulSoup(sale_page_source, 'html.parser')\n",
    "    \n",
    "    # Find searching results\n",
    "    results = sale_page_soup.find('div', class_='elementor-column elementor-col-66 elementor-top-column elementor-element elementor-element-72802a0e')\n",
    "    \n",
    "    # Create list of listings\n",
    "    listings = results.find_all('div', class_='wdk-col')\n",
    "    \n",
    "    # Loop for each listing to scrap information\n",
    "    for listing in listings:\n",
    "        if listing.h2:\n",
    "            title = listing.h2.text.strip()\n",
    "        if listing.find('span', class_='wdk-field-6'):\n",
    "            price = listing.find('span', class_='wdk-field-6').text.strip()\n",
    "        if listing.find('span', class_='wdk-rc-field-value'):\n",
    "            square = listing.find('span', class_='wdk-rc-field-value').text\n",
    "        \n",
    "        # Append lists to create DataFrame\n",
    "        property_types.append(property_categories[i])\n",
    "        titles.append(title)\n",
    "        prices.append(price)\n",
    "        squares.append(square)\n"
   ],
   "metadata": {
    "collapsed": false,
    "ExecuteTime": {
     "end_time": "2024-04-16T11:57:42.493706Z",
     "start_time": "2024-04-16T11:56:53.237784Z"
    }
   },
   "id": "3e6d21ab3a9bbd6",
   "execution_count": 243
  },
  {
   "cell_type": "code",
   "outputs": [],
   "source": [
    "driver.quit()"
   ],
   "metadata": {
    "collapsed": false,
    "ExecuteTime": {
     "end_time": "2024-04-16T11:57:43.124283Z",
     "start_time": "2024-04-16T11:57:42.495211Z"
    }
   },
   "id": "2de0ff2a02a46da8",
   "execution_count": 244
  },
  {
   "cell_type": "code",
   "outputs": [],
   "source": [
    "# Create DataFrame\n",
    "df = pd.DataFrame({'title': titles, \n",
    "                   'price': prices,\n",
    "                   'square(m2)': squares,\n",
    "                   'category': property_types\n",
    "                   })"
   ],
   "metadata": {
    "collapsed": false,
    "ExecuteTime": {
     "end_time": "2024-04-16T11:57:43.144052Z",
     "start_time": "2024-04-16T11:57:43.128393Z"
    }
   },
   "id": "13655ad8bf7e245c",
   "execution_count": 245
  },
  {
   "cell_type": "code",
   "outputs": [
    {
     "data": {
      "text/plain": "                                                title     price square(m2)  \\\n0   Modern three-room apartment under construction...  €144,000        57    \n1   Great opportunity: Elegant four-room apartment...  €218,000       132    \n2   Exclusive apartment with a luxurious terrace i...  €299,500       105    \n3   Luxurious three-room apartment with a view of ...  €260,000        63    \n4   Sale of an apartment in the new Inobacka build...   €78,000        34    \n5   One and a half bedroom apartment in the immedi...  €100,000        35    \n6   Selling a house in Sremska Kamenica - Your opp...  €144,000       104    \n7     House for sale in Rumenca, a suburb of Novi Sad  €237,000       154    \n8   Luxury villa for sale in Novi Sad, Bulevar Evr...  €720,000       340    \n9   Luxury villa in the prestigious Lipov gaj sett...  €400,000       125    \n10  For sale: A beautiful house in Alibegovac, Pet...  €350,000       142    \n11  Houses for sale in Ledinci, just 7 minutes dri...  €175,000       128    \n12  Excellent multi-purpose premises for sale near...   €85,500        45    \n13  Excellent opportunity: Plot of land of 3481 in...  €125,000      3481    \n14    Sale of plot with cottage in Čortanovci, 2955m2  €227,000      3481    \n15                   Plot for sale in Mišeluk, 1085m2  €410,000      1085    \n16     Building land for sale in Bačka Palanka 5139m2   €36,600      5139    \n\n             category  \n0          Apartments  \n1          Apartments  \n2          Apartments  \n3          Apartments  \n4          Apartments  \n5          Apartments  \n6              Houses  \n7              Houses  \n8              Houses  \n9              Houses  \n10             Houses  \n11             Houses  \n12  Business premises  \n13              Lands  \n14              Lands  \n15              Lands  \n16              Lands  ",
      "text/html": "<div>\n<style scoped>\n    .dataframe tbody tr th:only-of-type {\n        vertical-align: middle;\n    }\n\n    .dataframe tbody tr th {\n        vertical-align: top;\n    }\n\n    .dataframe thead th {\n        text-align: right;\n    }\n</style>\n<table border=\"1\" class=\"dataframe\">\n  <thead>\n    <tr style=\"text-align: right;\">\n      <th></th>\n      <th>title</th>\n      <th>price</th>\n      <th>square(m2)</th>\n      <th>category</th>\n    </tr>\n  </thead>\n  <tbody>\n    <tr>\n      <th>0</th>\n      <td>Modern three-room apartment under construction...</td>\n      <td>€144,000</td>\n      <td>57</td>\n      <td>Apartments</td>\n    </tr>\n    <tr>\n      <th>1</th>\n      <td>Great opportunity: Elegant four-room apartment...</td>\n      <td>€218,000</td>\n      <td>132</td>\n      <td>Apartments</td>\n    </tr>\n    <tr>\n      <th>2</th>\n      <td>Exclusive apartment with a luxurious terrace i...</td>\n      <td>€299,500</td>\n      <td>105</td>\n      <td>Apartments</td>\n    </tr>\n    <tr>\n      <th>3</th>\n      <td>Luxurious three-room apartment with a view of ...</td>\n      <td>€260,000</td>\n      <td>63</td>\n      <td>Apartments</td>\n    </tr>\n    <tr>\n      <th>4</th>\n      <td>Sale of an apartment in the new Inobacka build...</td>\n      <td>€78,000</td>\n      <td>34</td>\n      <td>Apartments</td>\n    </tr>\n    <tr>\n      <th>5</th>\n      <td>One and a half bedroom apartment in the immedi...</td>\n      <td>€100,000</td>\n      <td>35</td>\n      <td>Apartments</td>\n    </tr>\n    <tr>\n      <th>6</th>\n      <td>Selling a house in Sremska Kamenica - Your opp...</td>\n      <td>€144,000</td>\n      <td>104</td>\n      <td>Houses</td>\n    </tr>\n    <tr>\n      <th>7</th>\n      <td>House for sale in Rumenca, a suburb of Novi Sad</td>\n      <td>€237,000</td>\n      <td>154</td>\n      <td>Houses</td>\n    </tr>\n    <tr>\n      <th>8</th>\n      <td>Luxury villa for sale in Novi Sad, Bulevar Evr...</td>\n      <td>€720,000</td>\n      <td>340</td>\n      <td>Houses</td>\n    </tr>\n    <tr>\n      <th>9</th>\n      <td>Luxury villa in the prestigious Lipov gaj sett...</td>\n      <td>€400,000</td>\n      <td>125</td>\n      <td>Houses</td>\n    </tr>\n    <tr>\n      <th>10</th>\n      <td>For sale: A beautiful house in Alibegovac, Pet...</td>\n      <td>€350,000</td>\n      <td>142</td>\n      <td>Houses</td>\n    </tr>\n    <tr>\n      <th>11</th>\n      <td>Houses for sale in Ledinci, just 7 minutes dri...</td>\n      <td>€175,000</td>\n      <td>128</td>\n      <td>Houses</td>\n    </tr>\n    <tr>\n      <th>12</th>\n      <td>Excellent multi-purpose premises for sale near...</td>\n      <td>€85,500</td>\n      <td>45</td>\n      <td>Business premises</td>\n    </tr>\n    <tr>\n      <th>13</th>\n      <td>Excellent opportunity: Plot of land of 3481 in...</td>\n      <td>€125,000</td>\n      <td>3481</td>\n      <td>Lands</td>\n    </tr>\n    <tr>\n      <th>14</th>\n      <td>Sale of plot with cottage in Čortanovci, 2955m2</td>\n      <td>€227,000</td>\n      <td>3481</td>\n      <td>Lands</td>\n    </tr>\n    <tr>\n      <th>15</th>\n      <td>Plot for sale in Mišeluk, 1085m2</td>\n      <td>€410,000</td>\n      <td>1085</td>\n      <td>Lands</td>\n    </tr>\n    <tr>\n      <th>16</th>\n      <td>Building land for sale in Bačka Palanka 5139m2</td>\n      <td>€36,600</td>\n      <td>5139</td>\n      <td>Lands</td>\n    </tr>\n  </tbody>\n</table>\n</div>"
     },
     "execution_count": 246,
     "metadata": {},
     "output_type": "execute_result"
    }
   ],
   "source": [
    "df"
   ],
   "metadata": {
    "collapsed": false,
    "ExecuteTime": {
     "end_time": "2024-04-16T11:57:43.167208Z",
     "start_time": "2024-04-16T11:57:43.151593Z"
    }
   },
   "id": "96ef7765f8d529ff",
   "execution_count": 246
  },
  {
   "cell_type": "code",
   "outputs": [],
   "source": [],
   "metadata": {
    "collapsed": false,
    "ExecuteTime": {
     "end_time": "2024-04-16T11:57:43.172541Z",
     "start_time": "2024-04-16T11:57:43.169287Z"
    }
   },
   "id": "991afd49f2f3f5c0",
   "execution_count": 246
  }
 ],
 "metadata": {
  "kernelspec": {
   "display_name": "Python 3",
   "language": "python",
   "name": "python3"
  },
  "language_info": {
   "codemirror_mode": {
    "name": "ipython",
    "version": 2
   },
   "file_extension": ".py",
   "mimetype": "text/x-python",
   "name": "python",
   "nbconvert_exporter": "python",
   "pygments_lexer": "ipython2",
   "version": "2.7.6"
  }
 },
 "nbformat": 4,
 "nbformat_minor": 5
}
