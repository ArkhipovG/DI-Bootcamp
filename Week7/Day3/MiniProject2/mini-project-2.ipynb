{
 "cells": [
  {
   "cell_type": "code",
   "outputs": [],
   "source": [
    "from selenium import webdriver\n",
    "from selenium.webdriver.common.by import By\n",
    "from selenium.webdriver.support.ui import WebDriverWait\n",
    "from selenium.webdriver.common.keys import Keys\n",
    "from bs4 import BeautifulSoup\n",
    "import time\n",
    "import pandas as pd\n"
   ],
   "metadata": {
    "collapsed": false,
    "ExecuteTime": {
     "end_time": "2024-04-16T12:12:55.086221Z",
     "start_time": "2024-04-16T12:12:54.494734Z"
    }
   },
   "id": "1e6878fbb0420d46",
   "execution_count": 1
  },
  {
   "cell_type": "code",
   "execution_count": 98,
   "id": "initial_id",
   "metadata": {
    "collapsed": true,
    "ExecuteTime": {
     "end_time": "2024-04-16T13:11:37.571847Z",
     "start_time": "2024-04-16T13:11:30.448337Z"
    }
   },
   "outputs": [],
   "source": [
    "# URL of the webpage\n",
    "url = 'https://www.scrapethissite.com/pages/frames/'\n",
    "\n",
    "# Initialize a Chrome webdriver\n",
    "driver = webdriver.Chrome()\n",
    "\n",
    "# Open the webpage\n",
    "driver.get(url)\n",
    "\n",
    "# Wait for the page to load\n",
    "time.sleep(3)\n",
    "\n",
    "# Extract the page source\n",
    "page_source = driver.page_source\n"
   ]
  },
  {
   "cell_type": "code",
   "outputs": [],
   "source": [
    "# Find the iframe by its ID or name (or other attributes like index)\n",
    "iframe = driver.find_element(By.ID, 'iframe')\n",
    "# Switch to the iframe\n",
    "driver.switch_to.frame(iframe)\n",
    "links = driver.find_elements(By.CLASS_NAME, 'btn.btn-default.btn-xs')"
   ],
   "metadata": {
    "collapsed": false,
    "ExecuteTime": {
     "end_time": "2024-04-16T13:11:39.862181Z",
     "start_time": "2024-04-16T13:11:39.822244Z"
    }
   },
   "id": "923a2f05ca873baa",
   "execution_count": 99
  },
  {
   "cell_type": "code",
   "outputs": [],
   "source": [
    "names =[]\n",
    "bios = []"
   ],
   "metadata": {
    "collapsed": false,
    "ExecuteTime": {
     "end_time": "2024-04-16T13:11:40.651770Z",
     "start_time": "2024-04-16T13:11:40.648879Z"
    }
   },
   "id": "ff98fb26da833255",
   "execution_count": 100
  },
  {
   "cell_type": "code",
   "outputs": [],
   "source": [
    "for i in range(len(links)):\n",
    "    driver.switch_to.default_content()\n",
    "    # Find the iframe by its ID or name (or other attributes like index)\n",
    "    iframe = driver.find_element(By.ID, 'iframe')\n",
    "    # Switch to the iframe\n",
    "    driver.switch_to.frame(iframe)\n",
    "    links = driver.find_elements(By.CLASS_NAME, 'btn.btn-default.btn-xs')\n",
    "    links[i].click()\n",
    "    page_source = driver.page_source\n",
    "    soup = BeautifulSoup(page_source, 'html.parser')\n",
    "    name = soup.h3.text\n",
    "    bio = soup.p.text\n",
    "    names.append(name)\n",
    "    bios.append(bio)\n",
    "    time.sleep(3)\n",
    "    \n",
    "    backlink = driver.find_element(By.CLASS_NAME, 'btn.btn-default.btn-xs')\n",
    "    backlink.click()\n",
    "    time.sleep(3)\n"
   ],
   "metadata": {
    "collapsed": false,
    "ExecuteTime": {
     "end_time": "2024-04-16T13:13:28.619596Z",
     "start_time": "2024-04-16T13:11:43.133272Z"
    }
   },
   "id": "97ce1765434560b4",
   "execution_count": 101
  },
  {
   "cell_type": "code",
   "outputs": [],
   "source": [
    "driver.quit()"
   ],
   "metadata": {
    "collapsed": false,
    "ExecuteTime": {
     "end_time": "2024-04-16T11:57:43.124283Z",
     "start_time": "2024-04-16T11:57:42.495211Z"
    }
   },
   "id": "2de0ff2a02a46da8",
   "execution_count": 244
  },
  {
   "cell_type": "code",
   "outputs": [],
   "source": [
    "for i in range(len(bios)):\n",
    "    bios[i] = bios[i].strip()"
   ],
   "metadata": {
    "collapsed": false,
    "ExecuteTime": {
     "end_time": "2024-04-16T13:15:11.444980Z",
     "start_time": "2024-04-16T13:15:11.441852Z"
    }
   },
   "id": "2e883a83c9795abf",
   "execution_count": 105
  },
  {
   "cell_type": "code",
   "outputs": [],
   "source": [
    "# Create DataFrame\n",
    "df = pd.DataFrame({'name': names, \n",
    "                   'bio': bios,\n",
    "                   })"
   ],
   "metadata": {
    "collapsed": false,
    "ExecuteTime": {
     "end_time": "2024-04-16T13:15:12.729071Z",
     "start_time": "2024-04-16T13:15:12.725389Z"
    }
   },
   "id": "13655ad8bf7e245c",
   "execution_count": 106
  },
  {
   "cell_type": "code",
   "outputs": [
    {
     "data": {
      "text/plain": "                name                                                bio\n0   Carettochelyidae  The Carettochelyidae family of turtles — more ...\n1        Cheloniidae  The Cheloniidae family of turtles — more commo...\n2        Chelydridae  The Chelydridae family of turtles — more commo...\n3     Dermatemydidae  The Dermatemydidae family of turtles — more co...\n4     Dermochelyidae  The Dermochelyidae family of turtles — more co...\n5           Emydidae  The Emydidae family of turtles — more commonly...\n6        Geoemydidae  The Geoemydidae family of turtles — more commo...\n7      Kinosternidae  The Kinosternidae family of turtles — more com...\n8     Platysternidae  The Platysternidae family of turtles — more co...\n9       Testudinidae  The Testudinidae family of turtles — more comm...\n10      Trionychidae  The Trionychidae family of turtles — more comm...\n11          Chelidae  The Chelidae family of turtles — more commonly...\n12     Pelomedusidae  The Pelomedusidae family of turtles — more com...\n13    Podocnemididae  The Podocnemididae family of turtles — more co...",
      "text/html": "<div>\n<style scoped>\n    .dataframe tbody tr th:only-of-type {\n        vertical-align: middle;\n    }\n\n    .dataframe tbody tr th {\n        vertical-align: top;\n    }\n\n    .dataframe thead th {\n        text-align: right;\n    }\n</style>\n<table border=\"1\" class=\"dataframe\">\n  <thead>\n    <tr style=\"text-align: right;\">\n      <th></th>\n      <th>name</th>\n      <th>bio</th>\n    </tr>\n  </thead>\n  <tbody>\n    <tr>\n      <th>0</th>\n      <td>Carettochelyidae</td>\n      <td>The Carettochelyidae family of turtles — more ...</td>\n    </tr>\n    <tr>\n      <th>1</th>\n      <td>Cheloniidae</td>\n      <td>The Cheloniidae family of turtles — more commo...</td>\n    </tr>\n    <tr>\n      <th>2</th>\n      <td>Chelydridae</td>\n      <td>The Chelydridae family of turtles — more commo...</td>\n    </tr>\n    <tr>\n      <th>3</th>\n      <td>Dermatemydidae</td>\n      <td>The Dermatemydidae family of turtles — more co...</td>\n    </tr>\n    <tr>\n      <th>4</th>\n      <td>Dermochelyidae</td>\n      <td>The Dermochelyidae family of turtles — more co...</td>\n    </tr>\n    <tr>\n      <th>5</th>\n      <td>Emydidae</td>\n      <td>The Emydidae family of turtles — more commonly...</td>\n    </tr>\n    <tr>\n      <th>6</th>\n      <td>Geoemydidae</td>\n      <td>The Geoemydidae family of turtles — more commo...</td>\n    </tr>\n    <tr>\n      <th>7</th>\n      <td>Kinosternidae</td>\n      <td>The Kinosternidae family of turtles — more com...</td>\n    </tr>\n    <tr>\n      <th>8</th>\n      <td>Platysternidae</td>\n      <td>The Platysternidae family of turtles — more co...</td>\n    </tr>\n    <tr>\n      <th>9</th>\n      <td>Testudinidae</td>\n      <td>The Testudinidae family of turtles — more comm...</td>\n    </tr>\n    <tr>\n      <th>10</th>\n      <td>Trionychidae</td>\n      <td>The Trionychidae family of turtles — more comm...</td>\n    </tr>\n    <tr>\n      <th>11</th>\n      <td>Chelidae</td>\n      <td>The Chelidae family of turtles — more commonly...</td>\n    </tr>\n    <tr>\n      <th>12</th>\n      <td>Pelomedusidae</td>\n      <td>The Pelomedusidae family of turtles — more com...</td>\n    </tr>\n    <tr>\n      <th>13</th>\n      <td>Podocnemididae</td>\n      <td>The Podocnemididae family of turtles — more co...</td>\n    </tr>\n  </tbody>\n</table>\n</div>"
     },
     "execution_count": 107,
     "metadata": {},
     "output_type": "execute_result"
    }
   ],
   "source": [
    "df"
   ],
   "metadata": {
    "collapsed": false,
    "ExecuteTime": {
     "end_time": "2024-04-16T13:15:14.167477Z",
     "start_time": "2024-04-16T13:15:14.158909Z"
    }
   },
   "id": "96ef7765f8d529ff",
   "execution_count": 107
  },
  {
   "cell_type": "code",
   "outputs": [],
   "source": [
    "df.to_csv('Turtles.csv', index=False)"
   ],
   "metadata": {
    "collapsed": false,
    "ExecuteTime": {
     "end_time": "2024-04-16T13:17:17.875142Z",
     "start_time": "2024-04-16T13:17:17.858935Z"
    }
   },
   "id": "991afd49f2f3f5c0",
   "execution_count": 108
  },
  {
   "cell_type": "code",
   "outputs": [],
   "source": [],
   "metadata": {
    "collapsed": false
   },
   "id": "2a7622dfb58d7587"
  }
 ],
 "metadata": {
  "kernelspec": {
   "display_name": "Python 3",
   "language": "python",
   "name": "python3"
  },
  "language_info": {
   "codemirror_mode": {
    "name": "ipython",
    "version": 2
   },
   "file_extension": ".py",
   "mimetype": "text/x-python",
   "name": "python",
   "nbconvert_exporter": "python",
   "pygments_lexer": "ipython2",
   "version": "2.7.6"
  }
 },
 "nbformat": 4,
 "nbformat_minor": 5
}
